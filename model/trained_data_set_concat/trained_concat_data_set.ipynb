{
 "cells": [
  {
   "cell_type": "raw",
   "id": "e04741f7",
   "metadata": {},
   "source": [
    "# This data set is merged from all data sets and preprocessed \n",
    "# to gain a better prediction model\n",
    "\n",
    "#-----------------------------------------------------------------#\n",
    "# process of model training \n",
    "# identify the libraries and frame works to be imported \n",
    "# import data set to the field\n",
    "# find stats info wether being proprosecced correctly\n",
    "# calculate correlation matix\n",
    "# drop unwanted features that won't effect to predictions \n",
    "# expand the / feature engineer the data set to gain a better prection accuracy\n",
    "# find the best algorithem to make the prediction \n",
    "# split data into training and testing models\n",
    "# train and test the model and calculates other necssary statistical calculations \n"
   ]
  },
  {
   "cell_type": "code",
   "execution_count": 67,
   "id": "c67f6524",
   "metadata": {},
   "outputs": [
    {
     "name": "stdout",
     "output_type": "stream",
     "text": [
      "<class 'pandas.core.frame.DataFrame'>\n",
      "RangeIndex: 283 entries, 0 to 282\n",
      "Data columns (total 35 columns):\n",
      " #   Column                           Non-Null Count  Dtype  \n",
      "---  ------                           --------------  -----  \n",
      " 0   full_name                        283 non-null    object \n",
      " 1   rating                           283 non-null    int64  \n",
      " 2   Pos                              283 non-null    object \n",
      " 3   Experience                       283 non-null    int64  \n",
      " 4   Age                              283 non-null    int64  \n",
      " 5   Tm                               283 non-null    object \n",
      " 6   G                                283 non-null    int64  \n",
      " 7   GS                               283 non-null    int64  \n",
      " 8   MP                               283 non-null    float64\n",
      " 9   FG                               283 non-null    float64\n",
      " 10  FGA                              283 non-null    float64\n",
      " 11  FG%                              283 non-null    float64\n",
      " 12  3P                               283 non-null    float64\n",
      " 13  3PA                              283 non-null    float64\n",
      " 14  3P%                              283 non-null    float64\n",
      " 15  2P                               283 non-null    float64\n",
      " 16  2PA                              283 non-null    float64\n",
      " 17  2P%                              283 non-null    float64\n",
      " 18  eFG%                             283 non-null    float64\n",
      " 19  FT                               283 non-null    float64\n",
      " 20  FTA                              283 non-null    float64\n",
      " 21  FT%                              283 non-null    float64\n",
      " 22  ORB                              283 non-null    float64\n",
      " 23  DRB                              283 non-null    float64\n",
      " 24  TRB                              283 non-null    float64\n",
      " 25  AST                              283 non-null    float64\n",
      " 26  STL                              283 non-null    float64\n",
      " 27  BLK                              283 non-null    float64\n",
      " 28  TOV                              283 non-null    float64\n",
      " 29  PF                               283 non-null    float64\n",
      " 30  PTS                              283 non-null    float64\n",
      " 31  salary                           283 non-null    int64  \n",
      " 32  z_score_twitter RETWEET_count    283 non-null    float64\n",
      " 33  z_score_follower_count_millon    283 non-null    float64\n",
      " 34  z_score_twitter_followers_count  283 non-null    float64\n",
      "dtypes: float64(26), int64(6), object(3)\n",
      "memory usage: 77.5+ KB\n"
     ]
    }
   ],
   "source": [
    "import pandas as pd\n",
    "\n",
    "# Load the player statistics data\n",
    "player_stats = pd.read_csv('data_set_csv_files.csv')\n",
    "\n",
    "player_stats.info()\n"
   ]
  },
  {
   "cell_type": "code",
   "execution_count": 68,
   "id": "9989245f",
   "metadata": {},
   "outputs": [],
   "source": [
    "player_corr_stats = player_stats.drop(columns=['full_name','Pos','Tm'])"
   ]
  },
  {
   "cell_type": "code",
   "execution_count": 70,
   "id": "4fa03194",
   "metadata": {},
   "outputs": [
    {
     "name": "stdout",
     "output_type": "stream",
     "text": [
      "<class 'pandas.core.frame.DataFrame'>\n",
      "RangeIndex: 283 entries, 0 to 282\n",
      "Data columns (total 32 columns):\n",
      " #   Column                           Non-Null Count  Dtype  \n",
      "---  ------                           --------------  -----  \n",
      " 0   rating                           283 non-null    int64  \n",
      " 1   Experience                       283 non-null    int64  \n",
      " 2   Age                              283 non-null    int64  \n",
      " 3   G                                283 non-null    int64  \n",
      " 4   GS                               283 non-null    int64  \n",
      " 5   MP                               283 non-null    float64\n",
      " 6   FG                               283 non-null    float64\n",
      " 7   FGA                              283 non-null    float64\n",
      " 8   FG%                              283 non-null    float64\n",
      " 9   3P                               283 non-null    float64\n",
      " 10  3PA                              283 non-null    float64\n",
      " 11  3P%                              283 non-null    float64\n",
      " 12  2P                               283 non-null    float64\n",
      " 13  2PA                              283 non-null    float64\n",
      " 14  2P%                              283 non-null    float64\n",
      " 15  eFG%                             283 non-null    float64\n",
      " 16  FT                               283 non-null    float64\n",
      " 17  FTA                              283 non-null    float64\n",
      " 18  FT%                              283 non-null    float64\n",
      " 19  ORB                              283 non-null    float64\n",
      " 20  DRB                              283 non-null    float64\n",
      " 21  TRB                              283 non-null    float64\n",
      " 22  AST                              283 non-null    float64\n",
      " 23  STL                              283 non-null    float64\n",
      " 24  BLK                              283 non-null    float64\n",
      " 25  TOV                              283 non-null    float64\n",
      " 26  PF                               283 non-null    float64\n",
      " 27  PTS                              283 non-null    float64\n",
      " 28  salary                           283 non-null    int64  \n",
      " 29  z_score_twitter RETWEET_count    283 non-null    float64\n",
      " 30  z_score_follower_count_millon    283 non-null    float64\n",
      " 31  z_score_twitter_followers_count  283 non-null    float64\n",
      "dtypes: float64(26), int64(6)\n",
      "memory usage: 70.9 KB\n"
     ]
    }
   ],
   "source": [
    "player_corr_stats.info()"
   ]
  },
  {
   "cell_type": "code",
   "execution_count": 51,
   "id": "8f5ee1a3",
   "metadata": {},
   "outputs": [
    {
     "data": {
      "text/plain": [
       "rating                             0.791982\n",
       "Experience                         0.618116\n",
       "G                                  0.122575\n",
       "GS                                 0.343791\n",
       "MP                                 0.393168\n",
       "FG                                 0.437976\n",
       "FGA                                0.432245\n",
       "FG%                                0.071601\n",
       "3P                                 0.287886\n",
       "3PA                                0.284938\n",
       "3P%                                0.061762\n",
       "2P                                 0.393042\n",
       "2PA                                0.409559\n",
       "2P%                                0.013944\n",
       "eFG%                               0.072023\n",
       "FT                                 0.449821\n",
       "FTA                                0.441435\n",
       "FT%                                0.120637\n",
       "ORB                                0.115043\n",
       "DRB                                0.390021\n",
       "TRB                                0.335768\n",
       "AST                                0.466753\n",
       "STL                                0.285430\n",
       "BLK                                0.202395\n",
       "TOV                                0.464213\n",
       "PF                                 0.200880\n",
       "PTS                                0.455584\n",
       "salary                             1.000000\n",
       "z_score_twitter RETWEET_count      0.207202\n",
       "z_score_follower_count_millon      0.185268\n",
       "z_score_twitter_followers_count    0.201231\n",
       "Name: salary, dtype: float64"
      ]
     },
     "execution_count": 51,
     "metadata": {},
     "output_type": "execute_result"
    }
   ],
   "source": [
    "player_stats.corr()['salary']\n",
    "\n",
    "# the objects will not calculated the names teams and pos will not \n",
    "# be effecting to the corelation so we do not consider the above object type data"
   ]
  },
  {
   "cell_type": "code",
   "execution_count": 34,
   "id": "e6303dac",
   "metadata": {},
   "outputs": [
    {
     "data": {
      "text/plain": [
       "72    26\n",
       "76    24\n",
       "73    24\n",
       "77    22\n",
       "74    22\n",
       "79    20\n",
       "78    19\n",
       "75    18\n",
       "70    15\n",
       "71    14\n",
       "85    10\n",
       "87     8\n",
       "81     7\n",
       "80     6\n",
       "83     6\n",
       "82     6\n",
       "86     6\n",
       "88     5\n",
       "69     5\n",
       "96     3\n",
       "68     3\n",
       "84     3\n",
       "91     2\n",
       "89     2\n",
       "92     1\n",
       "67     1\n",
       "94     1\n",
       "97     1\n",
       "93     1\n",
       "90     1\n",
       "95     1\n",
       "Name: rating, dtype: int64"
      ]
     },
     "execution_count": 34,
     "metadata": {},
     "output_type": "execute_result"
    }
   ],
   "source": [
    "player_stats['rating'].value_counts()"
   ]
  },
  {
   "cell_type": "code",
   "execution_count": 105,
   "id": "35107a07",
   "metadata": {},
   "outputs": [
    {
     "data": {
      "text/plain": [
       "1416852     14\n",
       "898310       8\n",
       "1618520      7\n",
       "4767000      7\n",
       "1445697      4\n",
       "            ..\n",
       "2816760      1\n",
       "32700690     1\n",
       "16229213     1\n",
       "2379840      1\n",
       "19500000     1\n",
       "Name: salary, Length: 217, dtype: int64"
      ]
     },
     "execution_count": 105,
     "metadata": {},
     "output_type": "execute_result"
    }
   ],
   "source": [
    "player_stats['salary'].value_counts()\n"
   ]
  },
  {
   "cell_type": "code",
   "execution_count": 39,
   "id": "2e502a0e",
   "metadata": {},
   "outputs": [
    {
     "data": {
      "text/plain": [
       "(283, 35)"
      ]
     },
     "execution_count": 39,
     "metadata": {},
     "output_type": "execute_result"
    }
   ],
   "source": [
    "player_stats.shape"
   ]
  },
  {
   "cell_type": "code",
   "execution_count": 36,
   "id": "ad9264c5",
   "metadata": {},
   "outputs": [
    {
     "name": "stdout",
     "output_type": "stream",
     "text": [
      "6.0 - 9.0    109\n",
      "10.0 +       103\n",
      "3.0 - 5.0     71\n",
      "0y - 2y        0\n",
      "Name: Experience, dtype: int64\n"
     ]
    }
   ],
   "source": [
    "\n",
    "# Load the data into a pandas dataframe\n",
    "player_stats = pd.read_csv('data_set_csv_files.csv')\n",
    "\n",
    "# Define the ranges for categorization\n",
    "ranges = [0, 2, 5, 9, float('inf')]\n",
    "\n",
    "# Define the labels for each range\n",
    "labels = ['0y - 2y', '3.0 - 5.0', '6.0 - 9.0', '10.0 +']\n",
    "\n",
    "# Categorize the 'Experience' column\n",
    "player_stats['Experience'] = pd.cut(player_stats['Experience'], ranges, labels=labels)\n",
    "\n",
    "# Print the value counts for the 'Experience' column\n",
    "print(player_stats['Experience'].value_counts())"
   ]
  },
  {
   "cell_type": "code",
   "execution_count": 42,
   "id": "791d8682",
   "metadata": {},
   "outputs": [
    {
     "data": {
      "text/plain": [
       "25-30       116\n",
       "19-24        97\n",
       "30-40        70\n",
       "below 19      0\n",
       "above 40      0\n",
       "Name: Age, dtype: int64"
      ]
     },
     "execution_count": 42,
     "metadata": {},
     "output_type": "execute_result"
    }
   ],
   "source": [
    "player_stats['Age'].value_counts()\n"
   ]
  },
  {
   "cell_type": "code",
   "execution_count": 59,
   "id": "fa8399cb",
   "metadata": {},
   "outputs": [
    {
     "name": "stdout",
     "output_type": "stream",
     "text": [
      "25-30       116\n",
      "19-24        97\n",
      "30-40        70\n",
      "below 19      0\n",
      "above 40      0\n",
      "Name: Age, dtype: int64\n"
     ]
    }
   ],
   "source": [
    "# Load the data into a pandas dataframe\n",
    "player_stats = pd.read_csv('data_set_csv_files.csv')\n",
    "\n",
    "# Define the ranges for categorization\n",
    "age_ranges = [0, 19, 25, 30, 40, float('inf')]\n",
    "\n",
    "# Define the labels for each range\n",
    "age_labels = ['below 19', '19-24', '25-30', '30-40', 'above 40']\n",
    "\n",
    "# Categorize the 'Age' column\n",
    "player_stats['Age'] = pd.cut(player_stats['Age'], age_ranges, labels=age_labels)\n",
    "\n",
    "# Print the value counts for the 'Age' column\n",
    "print(player_stats['Age'].value_counts())\n",
    "\n"
   ]
  },
  {
   "cell_type": "code",
   "execution_count": 60,
   "id": "a738536f",
   "metadata": {},
   "outputs": [
    {
     "name": "stdout",
     "output_type": "stream",
     "text": [
      "rating has a strong positive correlation with salary.\n",
      "Experience has a strong positive correlation with salary.\n",
      "AST has a positive correlation with salary.\n",
      "TOV has a positive correlation with salary.\n",
      "PTS has a positive correlation with salary.\n",
      "FT has a positive correlation with salary.\n",
      "FTA has a positive correlation with salary.\n",
      "FG has a positive correlation with salary.\n",
      "FGA has a positive correlation with salary.\n",
      "2PA has a positive correlation with salary.\n",
      "MP has a positive correlation with salary.\n",
      "2P has a positive correlation with salary.\n",
      "DRB has a positive correlation with salary.\n",
      "GS has a positive correlation with salary.\n",
      "TRB has a positive correlation with salary.\n",
      "3P has a positive correlation with salary.\n",
      "STL has a positive correlation with salary.\n",
      "3PA has a positive correlation with salary.\n",
      "z_score_twitter RETWEET_count has a positive correlation with salary.\n",
      "BLK has a positive correlation with salary.\n",
      "z_score_twitter_followers_count has a positive correlation with salary.\n",
      "PF has a positive correlation with salary.\n",
      "z_score_follower_count_millon has a positive correlation with salary.\n",
      "G has a positive correlation with salary.\n",
      "FT% has a positive correlation with salary.\n",
      "ORB has a positive correlation with salary.\n",
      "eFG% has a positive correlation with salary.\n",
      "FG% has a positive correlation with salary.\n",
      "3P% has a positive correlation with salary.\n",
      "2P% has a positive correlation with salary.\n"
     ]
    }
   ],
   "source": [
    "# Get the correlation matrix\n",
    "corr_matrix = player_stats.corr()\n",
    "\n",
    "# Get the correlations with the target variable\n",
    "corr_with_salary = corr_matrix['salary']\n",
    "\n",
    "# Sort the features by correlation with salary\n",
    "sorted_features = corr_with_salary.sort_values(ascending=False)\n",
    "\n",
    "# Print the feature names with their correlation values and descriptions\n",
    "for feature, correlation in sorted_features[1:35].items():\n",
    "    if correlation > 0.5:\n",
    "        print(feature, \"has a strong positive correlation with salary.\")\n",
    "    elif correlation > 0:\n",
    "        print(feature, \"has a positive correlation with salary.\")\n",
    "    elif correlation < -0.5:\n",
    "        print(feature, \"has a strong negative correlation with salary.\")\n",
    "    elif correlation < 0:\n",
    "        print(feature, \"has a negative correlation with salary.\")"
   ]
  },
  {
   "cell_type": "code",
   "execution_count": 89,
   "id": "1cc12ee9",
   "metadata": {},
   "outputs": [],
   "source": [
    "X = player_corr_stats.drop('salary',axis=1)\n",
    "y= player_corr_stats['salary']"
   ]
  },
  {
   "cell_type": "code",
   "execution_count": 94,
   "id": "448fc04e",
   "metadata": {},
   "outputs": [],
   "source": [
    "from sklearn.model_selection import train_test_split\n",
    "X_train, X_test, y_train, y_test = train_test_split(X, y, test_size=0.25)\n"
   ]
  },
  {
   "cell_type": "code",
   "execution_count": 95,
   "id": "b7278d6f",
   "metadata": {},
   "outputs": [
    {
     "data": {
      "text/plain": [
       "((212, 31), (71, 31))"
      ]
     },
     "execution_count": 95,
     "metadata": {},
     "output_type": "execute_result"
    }
   ],
   "source": [
    "X_train.shape,X_test.shape"
   ]
  },
  {
   "cell_type": "code",
   "execution_count": 96,
   "id": "be0185fe",
   "metadata": {},
   "outputs": [],
   "source": [
    "def model_acc(model):\n",
    "    model.fit(X_train,y_train)\n",
    "    acc = model.score(X_test,y_test)\n",
    "    print(str(model)+ '-->'+str(acc))\n",
    "    print(\"Accuracy: {:.2f}%\".format(acc*100))"
   ]
  },
  {
   "cell_type": "code",
   "execution_count": 97,
   "id": "cd69b062",
   "metadata": {},
   "outputs": [
    {
     "name": "stdout",
     "output_type": "stream",
     "text": [
      "LinearRegression()-->0.6611184856767456\n",
      "Accuracy: 66.11%\n",
      "Lasso()-->0.6686205878400484\n",
      "Accuracy: 66.86%\n",
      "DecisionTreeRegressor()-->0.5484989361558676\n",
      "Accuracy: 54.85%\n"
     ]
    },
    {
     "name": "stderr",
     "output_type": "stream",
     "text": [
      "C:\\Users\\Dell\\anaconda3\\lib\\site-packages\\sklearn\\linear_model\\_coordinate_descent.py:647: ConvergenceWarning: Objective did not converge. You might want to increase the number of iterations, check the scale of the features or consider increasing regularisation. Duality gap: 2.837e+15, tolerance: 2.034e+12\n",
      "  model = cd_fast.enet_coordinate_descent(\n"
     ]
    },
    {
     "name": "stdout",
     "output_type": "stream",
     "text": [
      "RandomForestRegressor()-->0.7539288081249167\n",
      "Accuracy: 75.39%\n",
      "GradientBoostingRegressor()-->0.7499355920430143\n",
      "Accuracy: 74.99%\n"
     ]
    }
   ],
   "source": [
    "from sklearn.linear_model import LinearRegression\n",
    "lr = LinearRegression()\n",
    "model_acc(lr)\n",
    "\n",
    "from sklearn.linear_model import Lasso\n",
    "lasso = Lasso()\n",
    "model_acc(lasso)\n",
    "\n",
    "from sklearn.tree import DecisionTreeRegressor\n",
    "dt = DecisionTreeRegressor()\n",
    "model_acc(dt)\n",
    "\n",
    "from sklearn.ensemble import RandomForestRegressor\n",
    "rf = RandomForestRegressor()\n",
    "model_acc(rf)\n",
    "\n",
    "from sklearn.ensemble import GradientBoostingRegressor\n",
    "gb = GradientBoostingRegressor()\n",
    "model_acc(gb)"
   ]
  },
  {
   "cell_type": "code",
   "execution_count": 98,
   "id": "2cf209cc",
   "metadata": {},
   "outputs": [
    {
     "ename": "NameError",
     "evalue": "name 'best_model' is not defined",
     "output_type": "error",
     "traceback": [
      "\u001b[1;31m---------------------------------------------------------------------------\u001b[0m",
      "\u001b[1;31mNameError\u001b[0m                                 Traceback (most recent call last)",
      "Input \u001b[1;32mIn [98]\u001b[0m, in \u001b[0;36m<cell line: 1>\u001b[1;34m()\u001b[0m\n\u001b[1;32m----> 1\u001b[0m \u001b[43mbest_model\u001b[49m\u001b[38;5;241m.\u001b[39mpredict([[\u001b[38;5;241m5\u001b[39m, \u001b[38;5;241m27\u001b[39m, \u001b[38;5;241m60\u001b[39m, \u001b[38;5;241m60\u001b[39m, \u001b[38;5;241m36.5\u001b[39m, \u001b[38;5;241m8.5\u001b[39m, \u001b[38;5;241m18.5\u001b[39m, \u001b[38;5;241m0.459\u001b[39m, \u001b[38;5;241m2.0\u001b[39m, \u001b[38;5;241m5.0\u001b[39m, \u001b[38;5;241m0.400\u001b[39m, \u001b[38;5;241m6.5\u001b[39m, \u001b[38;5;241m13.5\u001b[39m, \u001b[38;5;241m0.481\u001b[39m, \u001b[38;5;241m0.532\u001b[39m, \u001b[38;5;241m5.5\u001b[39m, \u001b[38;5;241m6.5\u001b[39m, \u001b[38;5;241m0.846\u001b[39m, \u001b[38;5;241m1.0\u001b[39m, \u001b[38;5;241m4.5\u001b[39m, \u001b[38;5;241m5.5\u001b[39m, \u001b[38;5;241m7.0\u001b[39m, \u001b[38;5;241m2.0\u001b[39m, \u001b[38;5;241m0.5\u001b[39m, \u001b[38;5;241m2.5\u001b[39m, \u001b[38;5;241m2.0\u001b[39m, \u001b[38;5;241m24.5\u001b[39m, \u001b[38;5;241m15000000\u001b[39m, \u001b[38;5;241m1.5\u001b[39m, \u001b[38;5;241m0.7\u001b[39m]])\n",
      "\u001b[1;31mNameError\u001b[0m: name 'best_model' is not defined"
     ]
    }
   ],
   "source": []
  },
  {
   "cell_type": "code",
   "execution_count": 100,
   "id": "299f1f47",
   "metadata": {},
   "outputs": [
    {
     "data": {
      "text/plain": [
       "RandomForestRegressor(criterion='absolute_error', n_estimators=50)"
      ]
     },
     "execution_count": 100,
     "metadata": {},
     "output_type": "execute_result"
    }
   ],
   "source": [
    "from sklearn.model_selection import GridSearchCV\n",
    "\n",
    "parameters = {'n_estimators':[10,50,100],\n",
    "             'criterion':['squared_error','absolute_error','poisson']}\n",
    "\n",
    "grid_obj = GridSearchCV(estimator=rf, param_grid=parameters)\n",
    "\n",
    "grid_fit = grid_obj.fit(X_train,y_train)\n",
    "\n",
    "best_model = grid_fit.best_estimator_\n",
    "best_model"
   ]
  },
  {
   "cell_type": "code",
   "execution_count": 101,
   "id": "35008511",
   "metadata": {},
   "outputs": [
    {
     "data": {
      "text/plain": [
       "0.7487528261233926"
      ]
     },
     "execution_count": 101,
     "metadata": {},
     "output_type": "execute_result"
    }
   ],
   "source": [
    "best_model.score(X_test,y_test) "
   ]
  },
  {
   "cell_type": "code",
   "execution_count": 103,
   "id": "6eecec0f",
   "metadata": {},
   "outputs": [
    {
     "name": "stderr",
     "output_type": "stream",
     "text": [
      "C:\\Users\\Dell\\anaconda3\\lib\\site-packages\\sklearn\\base.py:450: UserWarning: X does not have valid feature names, but RandomForestRegressor was fitted with feature names\n",
      "  warnings.warn(\n"
     ]
    },
    {
     "data": {
      "text/plain": [
       "array([6621090.84])"
      ]
     },
     "execution_count": 103,
     "metadata": {},
     "output_type": "execute_result"
    }
   ],
   "source": [
    "best_model.predict([[5, 27, 60, 60, 36.5, 8.5, 18.5, 0.459, 2.0, 5.0, 0.400, 6.5, 13.5, 0.481, 0.532, 5.5, 6.5, 0.846, 1.0, 4.5, 5.5, 7.0, 2.0, 0.5, 2.5, 2.0, 24.5, 15000000, 1.5, 0.7,0.5]])\n"
   ]
  },
  {
   "cell_type": "code",
   "execution_count": null,
   "id": "8f0f54fb",
   "metadata": {},
   "outputs": [],
   "source": []
  }
 ],
 "metadata": {
  "kernelspec": {
   "display_name": "Python 3 (ipykernel)",
   "language": "python",
   "name": "python3"
  },
  "language_info": {
   "codemirror_mode": {
    "name": "ipython",
    "version": 3
   },
   "file_extension": ".py",
   "mimetype": "text/x-python",
   "name": "python",
   "nbconvert_exporter": "python",
   "pygments_lexer": "ipython3",
   "version": "3.9.12"
  }
 },
 "nbformat": 4,
 "nbformat_minor": 5
}
