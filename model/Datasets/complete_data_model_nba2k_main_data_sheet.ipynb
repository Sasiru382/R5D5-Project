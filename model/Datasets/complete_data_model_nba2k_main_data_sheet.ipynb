{
 "cells": [
  {
   "cell_type": "code",
   "execution_count": 62,
   "id": "96a99450",
   "metadata": {},
   "outputs": [],
   "source": [
    "from sklearn.ensemble import GradientBoostingRegressor\n",
    "from sklearn import tree\n",
    "from sklearn.model_selection import GridSearchCV\n",
    "import numpy as np\n",
    "import pandas as pd\n",
    "from sklearn.model_selection import cross_val_score\n",
    "from sklearn.model_selection import KFold\n",
    "import matplotlib.pyplot as plt\n",
    "import seaborn as sns\n",
    "%matplotlib inline\n"
   ]
  },
  {
   "cell_type": "code",
   "execution_count": 63,
   "id": "87cae5ff",
   "metadata": {},
   "outputs": [],
   "source": [
    "df =pd.read_csv(\"D:\\java repository\\R5D5-Project-dev\\model\\ML_Model_Dataset_01\\complete_data_model_nba2k_main_data_sheet.csv\").dropna()"
   ]
  },
  {
   "cell_type": "code",
   "execution_count": 64,
   "id": "e6e6f217",
   "metadata": {},
   "outputs": [
    {
     "data": {
      "text/html": [
       "<div>\n",
       "<style scoped>\n",
       "    .dataframe tbody tr th:only-of-type {\n",
       "        vertical-align: middle;\n",
       "    }\n",
       "\n",
       "    .dataframe tbody tr th {\n",
       "        vertical-align: top;\n",
       "    }\n",
       "\n",
       "    .dataframe thead th {\n",
       "        text-align: right;\n",
       "    }\n",
       "</style>\n",
       "<table border=\"1\" class=\"dataframe\">\n",
       "  <thead>\n",
       "    <tr style=\"text-align: right;\">\n",
       "      <th></th>\n",
       "      <th>rating</th>\n",
       "      <th>height</th>\n",
       "      <th>weight</th>\n",
       "      <th>salary</th>\n",
       "      <th>draft_year</th>\n",
       "      <th>draft_round</th>\n",
       "      <th>draft_peak</th>\n",
       "      <th>TWITTER_FAVORITE_COUNT</th>\n",
       "      <th>TWITTER_RETWEET_COUNT</th>\n",
       "      <th>TWITTER_FOLLOWER_COUNT_MILLIONS</th>\n",
       "      <th>...</th>\n",
       "      <th>team_salary</th>\n",
       "      <th>position_C</th>\n",
       "      <th>position_C-F</th>\n",
       "      <th>position_F</th>\n",
       "      <th>position_F-C</th>\n",
       "      <th>position_F-G</th>\n",
       "      <th>position_G</th>\n",
       "      <th>position_G-F</th>\n",
       "      <th>country_USA</th>\n",
       "      <th>country_not USA</th>\n",
       "    </tr>\n",
       "  </thead>\n",
       "  <tbody>\n",
       "    <tr>\n",
       "      <th>0</th>\n",
       "      <td>81</td>\n",
       "      <td>2.03</td>\n",
       "      <td>99.8</td>\n",
       "      <td>0.433265</td>\n",
       "      <td>2014</td>\n",
       "      <td>1</td>\n",
       "      <td>4</td>\n",
       "      <td>42.500000</td>\n",
       "      <td>16.000000</td>\n",
       "      <td>2.850071</td>\n",
       "      <td>...</td>\n",
       "      <td>4</td>\n",
       "      <td>0</td>\n",
       "      <td>0</td>\n",
       "      <td>1</td>\n",
       "      <td>0</td>\n",
       "      <td>0</td>\n",
       "      <td>0</td>\n",
       "      <td>0</td>\n",
       "      <td>1</td>\n",
       "      <td>0</td>\n",
       "    </tr>\n",
       "    <tr>\n",
       "      <th>1</th>\n",
       "      <td>73</td>\n",
       "      <td>1.83</td>\n",
       "      <td>83.9</td>\n",
       "      <td>0.047871</td>\n",
       "      <td>2018</td>\n",
       "      <td>1</td>\n",
       "      <td>23</td>\n",
       "      <td>583.257282</td>\n",
       "      <td>198.997573</td>\n",
       "      <td>2.850071</td>\n",
       "      <td>...</td>\n",
       "      <td>2</td>\n",
       "      <td>0</td>\n",
       "      <td>0</td>\n",
       "      <td>0</td>\n",
       "      <td>0</td>\n",
       "      <td>0</td>\n",
       "      <td>1</td>\n",
       "      <td>0</td>\n",
       "      <td>1</td>\n",
       "      <td>0</td>\n",
       "    </tr>\n",
       "    <tr>\n",
       "      <th>2</th>\n",
       "      <td>70</td>\n",
       "      <td>1.96</td>\n",
       "      <td>102.1</td>\n",
       "      <td>0.034299</td>\n",
       "      <td>2016</td>\n",
       "      <td>2</td>\n",
       "      <td>58</td>\n",
       "      <td>583.257282</td>\n",
       "      <td>198.997573</td>\n",
       "      <td>2.850071</td>\n",
       "      <td>...</td>\n",
       "      <td>6</td>\n",
       "      <td>0</td>\n",
       "      <td>0</td>\n",
       "      <td>1</td>\n",
       "      <td>0</td>\n",
       "      <td>0</td>\n",
       "      <td>0</td>\n",
       "      <td>0</td>\n",
       "      <td>0</td>\n",
       "      <td>1</td>\n",
       "    </tr>\n",
       "    <tr>\n",
       "      <th>3</th>\n",
       "      <td>71</td>\n",
       "      <td>1.96</td>\n",
       "      <td>109.3</td>\n",
       "      <td>0.020774</td>\n",
       "      <td>2019</td>\n",
       "      <td>2</td>\n",
       "      <td>42</td>\n",
       "      <td>583.257282</td>\n",
       "      <td>198.997573</td>\n",
       "      <td>2.850071</td>\n",
       "      <td>...</td>\n",
       "      <td>6</td>\n",
       "      <td>0</td>\n",
       "      <td>0</td>\n",
       "      <td>1</td>\n",
       "      <td>0</td>\n",
       "      <td>0</td>\n",
       "      <td>0</td>\n",
       "      <td>0</td>\n",
       "      <td>1</td>\n",
       "      <td>0</td>\n",
       "    </tr>\n",
       "    <tr>\n",
       "      <th>4</th>\n",
       "      <td>85</td>\n",
       "      <td>2.06</td>\n",
       "      <td>111.6</td>\n",
       "      <td>0.611183</td>\n",
       "      <td>2007</td>\n",
       "      <td>1</td>\n",
       "      <td>3</td>\n",
       "      <td>136.000000</td>\n",
       "      <td>71.000000</td>\n",
       "      <td>0.253000</td>\n",
       "      <td>...</td>\n",
       "      <td>6</td>\n",
       "      <td>0</td>\n",
       "      <td>1</td>\n",
       "      <td>0</td>\n",
       "      <td>0</td>\n",
       "      <td>0</td>\n",
       "      <td>0</td>\n",
       "      <td>0</td>\n",
       "      <td>0</td>\n",
       "      <td>1</td>\n",
       "    </tr>\n",
       "  </tbody>\n",
       "</table>\n",
       "<p>5 rows × 23 columns</p>\n",
       "</div>"
      ],
      "text/plain": [
       "   rating  height  weight    salary  draft_year  draft_round  draft_peak  \\\n",
       "0      81    2.03    99.8  0.433265        2014            1           4   \n",
       "1      73    1.83    83.9  0.047871        2018            1          23   \n",
       "2      70    1.96   102.1  0.034299        2016            2          58   \n",
       "3      71    1.96   109.3  0.020774        2019            2          42   \n",
       "4      85    2.06   111.6  0.611183        2007            1           3   \n",
       "\n",
       "   TWITTER_FAVORITE_COUNT  TWITTER_RETWEET_COUNT  \\\n",
       "0               42.500000              16.000000   \n",
       "1              583.257282             198.997573   \n",
       "2              583.257282             198.997573   \n",
       "3              583.257282             198.997573   \n",
       "4              136.000000              71.000000   \n",
       "\n",
       "   TWITTER_FOLLOWER_COUNT_MILLIONS  ...  team_salary  position_C  \\\n",
       "0                         2.850071  ...            4           0   \n",
       "1                         2.850071  ...            2           0   \n",
       "2                         2.850071  ...            6           0   \n",
       "3                         2.850071  ...            6           0   \n",
       "4                         0.253000  ...            6           0   \n",
       "\n",
       "   position_C-F  position_F  position_F-C  position_F-G  position_G  \\\n",
       "0             0           1             0             0           0   \n",
       "1             0           0             0             0           1   \n",
       "2             0           1             0             0           0   \n",
       "3             0           1             0             0           0   \n",
       "4             1           0             0             0           0   \n",
       "\n",
       "   position_G-F  country_USA  country_not USA  \n",
       "0             0            1                0  \n",
       "1             0            1                0  \n",
       "2             0            0                1  \n",
       "3             0            1                0  \n",
       "4             0            0                1  \n",
       "\n",
       "[5 rows x 23 columns]"
      ]
     },
     "execution_count": 64,
     "metadata": {},
     "output_type": "execute_result"
    }
   ],
   "source": [
    "df.head()"
   ]
  },
  {
   "cell_type": "code",
   "execution_count": 65,
   "id": "7e3b5084",
   "metadata": {},
   "outputs": [
    {
     "data": {
      "text/plain": [
       "<function seaborn.utils.despine(fig=None, ax=None, top=True, right=True, left=False, bottom=False, offset=None, trim=False)>"
      ]
     },
     "execution_count": 65,
     "metadata": {},
     "output_type": "execute_result"
    },
    {
     "data": {
      "image/png": "[encoded data removed]",
      "text/plain": [
       "<Figure size 432x288 with 1 Axes>"
      ]
     },
     "metadata": {
      "needs_background": "light"
     },
     "output_type": "display_data"
    }
   ],
   "source": [
    "df['rating'].value_counts().plot(kind='bar')\n",
    "sns.despine"
   ]
  },
  {
   "cell_type": "code",
   "execution_count": 66,
   "id": "08ea6c3e",
   "metadata": {},
   "outputs": [
    {
     "data": {
      "text/plain": [
       "<function matplotlib.pyplot.show(close=None, block=None)>"
      ]
     },
     "execution_count": 66,
     "metadata": {},
     "output_type": "execute_result"
    },
    {
     "data": {
      "image/png": "[encoded data removed]",
      "text/plain": [
       "<Figure size 432x288 with 1 Axes>"
      ]
     },
     "metadata": {
      "needs_background": "light"
     },
     "output_type": "display_data"
    }
   ],
   "source": [
    "plt.scatter(df.rating,df.salary)\n",
    "plt.xlabel('rating')\n",
    "plt.ylabel('salary')\n",
    "plt.title('rating (vs) Importance salary')\n",
    "plt.show"
   ]
  },
  {
   "cell_type": "code",
   "execution_count": 67,
   "id": "8f265ced",
   "metadata": {},
   "outputs": [],
   "source": [
    "train = df.drop(['draft_year','salary'], axis=1)"
   ]
  },
  {
   "cell_type": "code",
   "execution_count": 68,
   "id": "4094d9f5",
   "metadata": {
    "scrolled": true
   },
   "outputs": [
    {
     "data": {
      "text/html": [
       "<div>\n",
       "<style scoped>\n",
       "    .dataframe tbody tr th:only-of-type {\n",
       "        vertical-align: middle;\n",
       "    }\n",
       "\n",
       "    .dataframe tbody tr th {\n",
       "        vertical-align: top;\n",
       "    }\n",
       "\n",
       "    .dataframe thead th {\n",
       "        text-align: right;\n",
       "    }\n",
       "</style>\n",
       "<table border=\"1\" class=\"dataframe\">\n",
       "  <thead>\n",
       "    <tr style=\"text-align: right;\">\n",
       "      <th></th>\n",
       "      <th>rating</th>\n",
       "      <th>height</th>\n",
       "      <th>weight</th>\n",
       "      <th>draft_round</th>\n",
       "      <th>draft_peak</th>\n",
       "      <th>TWITTER_FAVORITE_COUNT</th>\n",
       "      <th>TWITTER_RETWEET_COUNT</th>\n",
       "      <th>TWITTER_FOLLOWER_COUNT_MILLIONS</th>\n",
       "      <th>Experience</th>\n",
       "      <th>Age</th>\n",
       "      <th>...</th>\n",
       "      <th>team_salary</th>\n",
       "      <th>position_C</th>\n",
       "      <th>position_C-F</th>\n",
       "      <th>position_F</th>\n",
       "      <th>position_F-C</th>\n",
       "      <th>position_F-G</th>\n",
       "      <th>position_G</th>\n",
       "      <th>position_G-F</th>\n",
       "      <th>country_USA</th>\n",
       "      <th>country_not USA</th>\n",
       "    </tr>\n",
       "  </thead>\n",
       "  <tbody>\n",
       "    <tr>\n",
       "      <th>0</th>\n",
       "      <td>81</td>\n",
       "      <td>2.03</td>\n",
       "      <td>99.8</td>\n",
       "      <td>1</td>\n",
       "      <td>4</td>\n",
       "      <td>42.500000</td>\n",
       "      <td>16.000000</td>\n",
       "      <td>2.850071</td>\n",
       "      <td>9.0</td>\n",
       "      <td>28.0</td>\n",
       "      <td>...</td>\n",
       "      <td>4</td>\n",
       "      <td>0</td>\n",
       "      <td>0</td>\n",
       "      <td>1</td>\n",
       "      <td>0</td>\n",
       "      <td>0</td>\n",
       "      <td>0</td>\n",
       "      <td>0</td>\n",
       "      <td>1</td>\n",
       "      <td>0</td>\n",
       "    </tr>\n",
       "    <tr>\n",
       "      <th>1</th>\n",
       "      <td>73</td>\n",
       "      <td>1.83</td>\n",
       "      <td>83.9</td>\n",
       "      <td>1</td>\n",
       "      <td>23</td>\n",
       "      <td>583.257282</td>\n",
       "      <td>198.997573</td>\n",
       "      <td>2.850071</td>\n",
       "      <td>5.0</td>\n",
       "      <td>27.0</td>\n",
       "      <td>...</td>\n",
       "      <td>2</td>\n",
       "      <td>0</td>\n",
       "      <td>0</td>\n",
       "      <td>0</td>\n",
       "      <td>0</td>\n",
       "      <td>0</td>\n",
       "      <td>1</td>\n",
       "      <td>0</td>\n",
       "      <td>1</td>\n",
       "      <td>0</td>\n",
       "    </tr>\n",
       "    <tr>\n",
       "      <th>2</th>\n",
       "      <td>70</td>\n",
       "      <td>1.96</td>\n",
       "      <td>102.1</td>\n",
       "      <td>2</td>\n",
       "      <td>58</td>\n",
       "      <td>583.257282</td>\n",
       "      <td>198.997573</td>\n",
       "      <td>2.850071</td>\n",
       "      <td>7.0</td>\n",
       "      <td>30.0</td>\n",
       "      <td>...</td>\n",
       "      <td>6</td>\n",
       "      <td>0</td>\n",
       "      <td>0</td>\n",
       "      <td>1</td>\n",
       "      <td>0</td>\n",
       "      <td>0</td>\n",
       "      <td>0</td>\n",
       "      <td>0</td>\n",
       "      <td>0</td>\n",
       "      <td>1</td>\n",
       "    </tr>\n",
       "    <tr>\n",
       "      <th>3</th>\n",
       "      <td>71</td>\n",
       "      <td>1.96</td>\n",
       "      <td>109.3</td>\n",
       "      <td>2</td>\n",
       "      <td>42</td>\n",
       "      <td>583.257282</td>\n",
       "      <td>198.997573</td>\n",
       "      <td>2.850071</td>\n",
       "      <td>4.0</td>\n",
       "      <td>26.0</td>\n",
       "      <td>...</td>\n",
       "      <td>6</td>\n",
       "      <td>0</td>\n",
       "      <td>0</td>\n",
       "      <td>1</td>\n",
       "      <td>0</td>\n",
       "      <td>0</td>\n",
       "      <td>0</td>\n",
       "      <td>0</td>\n",
       "      <td>1</td>\n",
       "      <td>0</td>\n",
       "    </tr>\n",
       "    <tr>\n",
       "      <th>4</th>\n",
       "      <td>85</td>\n",
       "      <td>2.06</td>\n",
       "      <td>111.6</td>\n",
       "      <td>1</td>\n",
       "      <td>3</td>\n",
       "      <td>136.000000</td>\n",
       "      <td>71.000000</td>\n",
       "      <td>0.253000</td>\n",
       "      <td>16.0</td>\n",
       "      <td>37.0</td>\n",
       "      <td>...</td>\n",
       "      <td>6</td>\n",
       "      <td>0</td>\n",
       "      <td>1</td>\n",
       "      <td>0</td>\n",
       "      <td>0</td>\n",
       "      <td>0</td>\n",
       "      <td>0</td>\n",
       "      <td>0</td>\n",
       "      <td>0</td>\n",
       "      <td>1</td>\n",
       "    </tr>\n",
       "  </tbody>\n",
       "</table>\n",
       "<p>5 rows × 21 columns</p>\n",
       "</div>"
      ],
      "text/plain": [
       "   rating  height  weight  draft_round  draft_peak  TWITTER_FAVORITE_COUNT  \\\n",
       "0      81    2.03    99.8            1           4               42.500000   \n",
       "1      73    1.83    83.9            1          23              583.257282   \n",
       "2      70    1.96   102.1            2          58              583.257282   \n",
       "3      71    1.96   109.3            2          42              583.257282   \n",
       "4      85    2.06   111.6            1           3              136.000000   \n",
       "\n",
       "   TWITTER_RETWEET_COUNT  TWITTER_FOLLOWER_COUNT_MILLIONS  Experience   Age  \\\n",
       "0              16.000000                         2.850071         9.0  28.0   \n",
       "1             198.997573                         2.850071         5.0  27.0   \n",
       "2             198.997573                         2.850071         7.0  30.0   \n",
       "3             198.997573                         2.850071         4.0  26.0   \n",
       "4              71.000000                         0.253000        16.0  37.0   \n",
       "\n",
       "   ...  team_salary  position_C  position_C-F  position_F  position_F-C  \\\n",
       "0  ...            4           0             0           1             0   \n",
       "1  ...            2           0             0           0             0   \n",
       "2  ...            6           0             0           1             0   \n",
       "3  ...            6           0             0           1             0   \n",
       "4  ...            6           0             1           0             0   \n",
       "\n",
       "   position_F-G  position_G  position_G-F  country_USA  country_not USA  \n",
       "0             0           0             0            1                0  \n",
       "1             0           1             0            1                0  \n",
       "2             0           0             0            0                1  \n",
       "3             0           0             0            1                0  \n",
       "4             0           0             0            0                1  \n",
       "\n",
       "[5 rows x 21 columns]"
      ]
     },
     "execution_count": 68,
     "metadata": {},
     "output_type": "execute_result"
    }
   ],
   "source": [
    "train.head()"
   ]
  },
  {
   "cell_type": "code",
   "execution_count": 69,
   "id": "a7478373",
   "metadata": {},
   "outputs": [],
   "source": [
    "from sklearn.linear_model import LinearRegression"
   ]
  },
  {
   "cell_type": "code",
   "execution_count": 70,
   "id": "06009969",
   "metadata": {},
   "outputs": [],
   "source": [
    "reg = LinearRegression()"
   ]
  },
  {
   "cell_type": "code",
   "execution_count": 71,
   "id": "84d796ac",
   "metadata": {},
   "outputs": [],
   "source": [
    "labels = df['salary']\n",
    "conv_date = [1 if values == 2014 else 0 for values in df.Age]\n",
    "df['Age'] = conv_date\n",
    "train = df.drop(['draft_year','salary'],axis=1)"
   ]
  },
  {
   "cell_type": "code",
   "execution_count": 72,
   "id": "8ea73bbd",
   "metadata": {},
   "outputs": [],
   "source": [
    "from sklearn.model_selection import train_test_split"
   ]
  },
  {
   "cell_type": "code",
   "execution_count": 73,
   "id": "6b2c4d9a",
   "metadata": {},
   "outputs": [],
   "source": [
    "# see below"
   ]
  },
  {
   "cell_type": "code",
   "execution_count": 74,
   "id": "4b4b4d2e",
   "metadata": {},
   "outputs": [],
   "source": [
    "#------------------------------------------------------------------"
   ]
  },
  {
   "cell_type": "code",
   "execution_count": 75,
   "id": "7f8f0b1a",
   "metadata": {},
   "outputs": [],
   "source": [
    "X_train = pd.read_csv(\"D:\\java repository\\R5D5-Project-dev\\model\\ML_Model_Dataset_02\\X_train02.csv\")\n",
    "y_train =pd.read_csv(\"D:\\java repository\\R5D5-Project-dev\\model\\ML_Model_Dataset_02\\y_train02.csv\")\n",
    "X_test = pd.read_csv(\"D:\\java repository\\R5D5-Project-dev\\model\\ML_Model_Dataset_01\\X_test.csv\")\n",
    "y_test = pd.read_csv(\"D:\\java repository\\R5D5-Project-dev\\model\\ML_Model_Dataset_01\\y_test.csv\")\n",
    "x = X_train[['Stamina', 'Layup', 'Hands', 'Pass Accuracy', 'Pass IQ', 'Pass Vision']]\n",
    "y= y_train ['salary']"
   ]
  },
  {
   "cell_type": "code",
   "execution_count": 76,
   "id": "564d55f7",
   "metadata": {},
   "outputs": [
    {
     "name": "stdout",
     "output_type": "stream",
     "text": [
      "1 -0.09209756389636131\n",
      "2 -0.09982194486850277\n",
      "3 -0.10015586796831226\n",
      "4 -0.11765000740891252\n",
      "5 -0.1308753069463339\n",
      "6 -0.1338566922478276\n",
      "7 -0.1561134890058677\n",
      "8 -0.13618395320556007\n",
      "9 -0.14556745696668655\n",
      "10 -0.16016429498794774\n"
     ]
    }
   ],
   "source": [
    "#baseline model\n",
    "crossvalidation = KFold(n_splits = 10,shuffle=True , random_state=1)\n",
    "\n",
    "for depth in range(1,11):\n",
    "    tree_regressor=tree.DecisionTreeRegressor(max_depth=depth,random_state=1)\n",
    "    if tree_regressor.fit(x,y).tree_.max_depth<depth:\n",
    "        break\n",
    "    score=np.mean(cross_val_score(tree_regressor,x,y,\n",
    "                                 scoring='neg_mean_squared_error',\n",
    "                                 cv=crossvalidation,n_jobs=1))\n",
    "    print(depth,score)"
   ]
  },
  {
   "cell_type": "code",
   "execution_count": 77,
   "id": "54a2a4fb",
   "metadata": {},
   "outputs": [],
   "source": [
    "#hyperparamete tuning\n",
    "GBR =GradientBoostingRegressor()\n",
    "search_grid = {'n_estimators':[500,1000,2000],'learning_rate':[.001,0.01,.1],\n",
    "              'max_depth':[1,2,4],'subsample':[.5,.75,1],'random_state':[1]}\n",
    "search = GridSearchCV(estimator=GBR,param_grid=search_grid,scoring='neg_mean_squared_error',n_jobs=1,cv=crossvalidation)"
   ]
  },
  {
   "cell_type": "code",
   "execution_count": 78,
   "id": "5b90491e",
   "metadata": {},
   "outputs": [
    {
     "name": "stdout",
     "output_type": "stream",
     "text": [
      "{'learning_rate': 0.001, 'max_depth': 1, 'n_estimators': 2000, 'random_state': 1, 'subsample': 0.5}\n",
      "-0.07439469892656139\n"
     ]
    }
   ],
   "source": [
    "search.fit(x,y)\n",
    "print(search.best_params_)\n",
    "print(search.best_score_)"
   ]
  },
  {
   "cell_type": "code",
   "execution_count": 79,
   "id": "4825fc94",
   "metadata": {},
   "outputs": [
    {
     "data": {
      "text/plain": [
       "-0.07439469892656139"
      ]
     },
     "execution_count": 79,
     "metadata": {},
     "output_type": "execute_result"
    }
   ],
   "source": [
    "#GB mosdel development\n",
    "GBR2 = GradientBoostingRegressor(learning_rate = 0.001, max_depth= 1, n_estimators=2000, random_state= 1, subsample= 0.5)\n",
    "score = np.mean(cross_val_score(GBR2,x,y,scoring = 'neg_mean_squared_error',cv=crossvalidation,n_jobs=1))\n",
    "score\n"
   ]
  },
  {
   "cell_type": "code",
   "execution_count": 80,
   "id": "72f3f89d",
   "metadata": {},
   "outputs": [],
   "source": [
    "X_train,X_test,y_train,y_test = train_test_split(train,labels,test_size=0.1,random_state=2)"
   ]
  },
  {
   "cell_type": "code",
   "execution_count": 81,
   "id": "e0ceab71",
   "metadata": {},
   "outputs": [
    {
     "data": {
      "text/plain": [
       "LinearRegression()"
      ]
     },
     "execution_count": 81,
     "metadata": {},
     "output_type": "execute_result"
    }
   ],
   "source": [
    "reg.fit(X_train,y_train)"
   ]
  },
  {
   "cell_type": "code",
   "execution_count": 82,
   "id": "63587a69",
   "metadata": {},
   "outputs": [
    {
     "name": "stdout",
     "output_type": "stream",
     "text": [
      "R² score: 0.6818317973848416\n",
      "Fair prediction\n"
     ]
    }
   ],
   "source": [
    "score = reg.score(X_test,y_test)\n",
    "print(\"R² score:\", score)\n",
    "# Check if the score is above a certain threshold\n",
    "# Print the R² score and the prediction quality\n",
    "\n",
    "if score > 0.7:\n",
    "    print(\"Good prediction\")\n",
    "elif score > 0.5:\n",
    "    print(\"Fair prediction\")\n",
    "else:\n",
    "    print(\"Poor prediction\")"
   ]
  },
  {
   "cell_type": "code",
   "execution_count": 83,
   "id": "d153bfb5",
   "metadata": {},
   "outputs": [],
   "source": [
    "from sklearn import ensemble"
   ]
  },
  {
   "cell_type": "code",
   "execution_count": 84,
   "id": "b66921eb",
   "metadata": {},
   "outputs": [],
   "source": [
    "gbr = ensemble.GradientBoostingRegressor(n_estimators = 200,max_depth=10,min_samples_split=2,learning_rate=0.1,loss='ls')"
   ]
  },
  {
   "cell_type": "code",
   "execution_count": 85,
   "id": "e68925df",
   "metadata": {},
   "outputs": [
    {
     "name": "stderr",
     "output_type": "stream",
     "text": [
      "C:\\Users\\Dell\\anaconda3\\lib\\site-packages\\sklearn\\ensemble\\_gb.py:286: FutureWarning: The loss 'ls' was deprecated in v1.0 and will be removed in version 1.2. Use 'squared_error' which is equivalent.\n",
      "  warnings.warn(\n"
     ]
    },
    {
     "data": {
      "text/plain": [
       "GradientBoostingRegressor(loss='ls', max_depth=10, n_estimators=200)"
      ]
     },
     "execution_count": 85,
     "metadata": {},
     "output_type": "execute_result"
    }
   ],
   "source": [
    "gbr.fit(X_train,y_train)"
   ]
  },
  {
   "cell_type": "code",
   "execution_count": 86,
   "id": "f552b571",
   "metadata": {},
   "outputs": [
    {
     "data": {
      "text/plain": [
       "0.7107486927099023"
      ]
     },
     "execution_count": 86,
     "metadata": {},
     "output_type": "execute_result"
    }
   ],
   "source": [
    "gbr.score(X_test,y_test)"
   ]
  },
  {
   "cell_type": "code",
   "execution_count": 87,
   "id": "d773d8ad",
   "metadata": {},
   "outputs": [
    {
     "data": {
      "text/plain": [
       "array([0.22553935, 0.25210171, 0.0821711 , 0.60035102, 0.07699671,\n",
       "       0.51246724, 0.65675157, 0.10570389, 0.05024056, 0.03603834,\n",
       "       0.75906931, 0.25707777, 0.83832491, 0.32930098, 0.17396065,\n",
       "       0.03004528, 0.85926241, 0.03425745, 0.24764596, 0.29241686,\n",
       "       0.22919086, 0.17361336, 0.10160176, 0.03509109, 0.05008161,\n",
       "       0.03450716, 0.17072954, 0.07562734, 0.59069928, 0.27706138,\n",
       "       0.23201642, 0.38508045, 0.13564415, 0.24511875, 0.96784886,\n",
       "       0.12254271, 0.75906931, 0.05567501, 0.01068035, 0.23795547,\n",
       "       0.06296452, 0.04530812, 0.64490237, 0.05813515, 0.0785997 ,\n",
       "       0.66843428, 0.06407796])"
      ]
     },
     "execution_count": 87,
     "metadata": {},
     "output_type": "execute_result"
    }
   ],
   "source": [
    "y_pred =gbr.predict(X_test)\n",
    "y_pred"
   ]
  },
  {
   "cell_type": "code",
   "execution_count": 88,
   "id": "e1156538",
   "metadata": {},
   "outputs": [
    {
     "data": {
      "text/html": [
       "<div>\n",
       "<style scoped>\n",
       "    .dataframe tbody tr th:only-of-type {\n",
       "        vertical-align: middle;\n",
       "    }\n",
       "\n",
       "    .dataframe tbody tr th {\n",
       "        vertical-align: top;\n",
       "    }\n",
       "\n",
       "    .dataframe thead th {\n",
       "        text-align: right;\n",
       "    }\n",
       "</style>\n",
       "<table border=\"1\" class=\"dataframe\">\n",
       "  <thead>\n",
       "    <tr style=\"text-align: right;\">\n",
       "      <th></th>\n",
       "      <th>rating</th>\n",
       "      <th>height</th>\n",
       "      <th>weight</th>\n",
       "      <th>draft_round</th>\n",
       "      <th>draft_peak</th>\n",
       "      <th>TWITTER_FAVORITE_COUNT</th>\n",
       "      <th>TWITTER_RETWEET_COUNT</th>\n",
       "      <th>TWITTER_FOLLOWER_COUNT_MILLIONS</th>\n",
       "      <th>Experience</th>\n",
       "      <th>Age</th>\n",
       "      <th>...</th>\n",
       "      <th>team_salary</th>\n",
       "      <th>position_C</th>\n",
       "      <th>position_C-F</th>\n",
       "      <th>position_F</th>\n",
       "      <th>position_F-C</th>\n",
       "      <th>position_F-G</th>\n",
       "      <th>position_G</th>\n",
       "      <th>position_G-F</th>\n",
       "      <th>country_USA</th>\n",
       "      <th>country_not USA</th>\n",
       "    </tr>\n",
       "  </thead>\n",
       "  <tbody>\n",
       "    <tr>\n",
       "      <th>274</th>\n",
       "      <td>74</td>\n",
       "      <td>2.06</td>\n",
       "      <td>104.3</td>\n",
       "      <td>1</td>\n",
       "      <td>30</td>\n",
       "      <td>22.0</td>\n",
       "      <td>11.5</td>\n",
       "      <td>2.850071</td>\n",
       "      <td>9.0</td>\n",
       "      <td>0</td>\n",
       "      <td>...</td>\n",
       "      <td>2</td>\n",
       "      <td>0</td>\n",
       "      <td>0</td>\n",
       "      <td>1</td>\n",
       "      <td>0</td>\n",
       "      <td>0</td>\n",
       "      <td>0</td>\n",
       "      <td>0</td>\n",
       "      <td>1</td>\n",
       "      <td>0</td>\n",
       "    </tr>\n",
       "  </tbody>\n",
       "</table>\n",
       "<p>1 rows × 21 columns</p>\n",
       "</div>"
      ],
      "text/plain": [
       "     rating  height  weight  draft_round  draft_peak  TWITTER_FAVORITE_COUNT  \\\n",
       "274      74    2.06   104.3            1          30                    22.0   \n",
       "\n",
       "     TWITTER_RETWEET_COUNT  TWITTER_FOLLOWER_COUNT_MILLIONS  Experience  Age  \\\n",
       "274                   11.5                         2.850071         9.0    0   \n",
       "\n",
       "     ...  team_salary  position_C  position_C-F  position_F  position_F-C  \\\n",
       "274  ...            2           0             0           1             0   \n",
       "\n",
       "     position_F-G  position_G  position_G-F  country_USA  country_not USA  \n",
       "274             0           0             0            1                0  \n",
       "\n",
       "[1 rows x 21 columns]"
      ]
     },
     "execution_count": 88,
     "metadata": {},
     "output_type": "execute_result"
    }
   ],
   "source": [
    "X_test[0:1]"
   ]
  },
  {
   "cell_type": "code",
   "execution_count": 89,
   "id": "95632788",
   "metadata": {},
   "outputs": [
    {
     "data": {
      "text/plain": [
       "GradientBoostingRegressor(learning_rate=0.001, max_depth=10, n_estimators=200)"
      ]
     },
     "execution_count": 89,
     "metadata": {},
     "output_type": "execute_result"
    }
   ],
   "source": [
    "from sklearn import ensemble\n",
    "gbr = ensemble.GradientBoostingRegressor(\n",
    "    n_estimators=200,\n",
    "    max_depth=10,\n",
    "    min_samples_split=2,\n",
    "    learning_rate=.001,\n",
    "    loss='squared_error'\n",
    ")\n",
    "gbr.fit(X_train, y_train)"
   ]
  },
  {
   "cell_type": "code",
   "execution_count": 90,
   "id": "a6035bfe",
   "metadata": {},
   "outputs": [
    {
     "data": {
      "text/plain": [
       "0.26121149230821006"
      ]
     },
     "execution_count": 90,
     "metadata": {},
     "output_type": "execute_result"
    }
   ],
   "source": [
    "gbr.score(X_test,y_test)"
   ]
  },
  {
   "cell_type": "code",
   "execution_count": 91,
   "id": "bc6c9595",
   "metadata": {},
   "outputs": [
    {
     "data": {
      "text/html": [
       "<div>\n",
       "<style scoped>\n",
       "    .dataframe tbody tr th:only-of-type {\n",
       "        vertical-align: middle;\n",
       "    }\n",
       "\n",
       "    .dataframe tbody tr th {\n",
       "        vertical-align: top;\n",
       "    }\n",
       "\n",
       "    .dataframe thead th {\n",
       "        text-align: right;\n",
       "    }\n",
       "</style>\n",
       "<table border=\"1\" class=\"dataframe\">\n",
       "  <thead>\n",
       "    <tr style=\"text-align: right;\">\n",
       "      <th></th>\n",
       "      <th>rating</th>\n",
       "      <th>height</th>\n",
       "      <th>weight</th>\n",
       "      <th>draft_round</th>\n",
       "      <th>draft_peak</th>\n",
       "      <th>TWITTER_FAVORITE_COUNT</th>\n",
       "      <th>TWITTER_RETWEET_COUNT</th>\n",
       "      <th>TWITTER_FOLLOWER_COUNT_MILLIONS</th>\n",
       "      <th>Experience</th>\n",
       "      <th>Age</th>\n",
       "      <th>...</th>\n",
       "      <th>team_salary</th>\n",
       "      <th>position_C</th>\n",
       "      <th>position_C-F</th>\n",
       "      <th>position_F</th>\n",
       "      <th>position_F-C</th>\n",
       "      <th>position_F-G</th>\n",
       "      <th>position_G</th>\n",
       "      <th>position_G-F</th>\n",
       "      <th>country_USA</th>\n",
       "      <th>country_not USA</th>\n",
       "    </tr>\n",
       "  </thead>\n",
       "  <tbody>\n",
       "    <tr>\n",
       "      <th>274</th>\n",
       "      <td>74</td>\n",
       "      <td>2.06</td>\n",
       "      <td>104.3</td>\n",
       "      <td>1</td>\n",
       "      <td>30</td>\n",
       "      <td>22.0</td>\n",
       "      <td>11.5</td>\n",
       "      <td>2.850071</td>\n",
       "      <td>9.0</td>\n",
       "      <td>0</td>\n",
       "      <td>...</td>\n",
       "      <td>2</td>\n",
       "      <td>0</td>\n",
       "      <td>0</td>\n",
       "      <td>1</td>\n",
       "      <td>0</td>\n",
       "      <td>0</td>\n",
       "      <td>0</td>\n",
       "      <td>0</td>\n",
       "      <td>1</td>\n",
       "      <td>0</td>\n",
       "    </tr>\n",
       "  </tbody>\n",
       "</table>\n",
       "<p>1 rows × 21 columns</p>\n",
       "</div>"
      ],
      "text/plain": [
       "     rating  height  weight  draft_round  draft_peak  TWITTER_FAVORITE_COUNT  \\\n",
       "274      74    2.06   104.3            1          30                    22.0   \n",
       "\n",
       "     TWITTER_RETWEET_COUNT  TWITTER_FOLLOWER_COUNT_MILLIONS  Experience  Age  \\\n",
       "274                   11.5                         2.850071         9.0    0   \n",
       "\n",
       "     ...  team_salary  position_C  position_C-F  position_F  position_F-C  \\\n",
       "274  ...            2           0             0           1             0   \n",
       "\n",
       "     position_F-G  position_G  position_G-F  country_USA  country_not USA  \n",
       "274             0           0             0            1                0  \n",
       "\n",
       "[1 rows x 21 columns]"
      ]
     },
     "execution_count": 91,
     "metadata": {},
     "output_type": "execute_result"
    }
   ],
   "source": [
    "y_pred =gbr.predict(X_test)\n",
    "y_pred\n",
    "X_test[0:1]"
   ]
  },
  {
   "cell_type": "code",
   "execution_count": null,
   "id": "81778901",
   "metadata": {},
   "outputs": [],
   "source": []
  }
 ],
 "metadata": {
  "kernelspec": {
   "display_name": "Python 3 (ipykernel)",
   "language": "python",
   "name": "python3"
  },
  "language_info": {
   "codemirror_mode": {
    "name": "ipython",
    "version": 3
   },
   "file_extension": ".py",
   "mimetype": "text/x-python",
   "name": "python",
   "nbconvert_exporter": "python",
   "pygments_lexer": "ipython3",
   "version": "3.9.12"
  }
 },
 "nbformat": 4,
 "nbformat_minor": 5
}
