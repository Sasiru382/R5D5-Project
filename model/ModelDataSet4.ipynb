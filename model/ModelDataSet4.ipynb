{
 "cells": [
  {
   "cell_type": "code",
   "execution_count": 23,
   "id": "01f62499",
   "metadata": {},
   "outputs": [],
   "source": [
    "import pandas as pd\n",
    "from sklearn.ensemble import GradientBoostingRegressor\n",
    "from sklearn.model_selection import train_test_split, GridSearchCV\n",
    "from sklearn.metrics import mean_squared_error, mean_absolute_error, r2_score\n",
    "from skopt import BayesSearchCV\n",
    "from skopt.space import Real, Integer, Categorical\n",
    "\n"
   ]
  },
  {
   "cell_type": "code",
   "execution_count": 2,
   "id": "d7622b18",
   "metadata": {},
   "outputs": [],
   "source": [
    "# load the data from a local CSV file\n",
    "data = pd.read_csv(\"C:/Users/user/Documents/GitHub/R5D5-Project/model/ML_Model_Dataset_04/complete_data_model_NBA_Player_Stats_Regular.csv\")"
   ]
  },
  {
   "cell_type": "code",
   "execution_count": 3,
   "id": "0546c970",
   "metadata": {},
   "outputs": [
    {
     "data": {
      "text/html": [
       "<div>\n",
       "<style scoped>\n",
       "    .dataframe tbody tr th:only-of-type {\n",
       "        vertical-align: middle;\n",
       "    }\n",
       "\n",
       "    .dataframe tbody tr th {\n",
       "        vertical-align: top;\n",
       "    }\n",
       "\n",
       "    .dataframe thead th {\n",
       "        text-align: right;\n",
       "    }\n",
       "</style>\n",
       "<table border=\"1\" class=\"dataframe\">\n",
       "  <thead>\n",
       "    <tr style=\"text-align: right;\">\n",
       "      <th></th>\n",
       "      <th>Rk</th>\n",
       "      <th>Age</th>\n",
       "      <th>G</th>\n",
       "      <th>GS</th>\n",
       "      <th>MP</th>\n",
       "      <th>FG</th>\n",
       "      <th>FGA</th>\n",
       "      <th>FG%</th>\n",
       "      <th>3P</th>\n",
       "      <th>3PA</th>\n",
       "      <th>...</th>\n",
       "      <th>Pos_C</th>\n",
       "      <th>Pos_C-PF</th>\n",
       "      <th>Pos_PF</th>\n",
       "      <th>Pos_PF-SF</th>\n",
       "      <th>Pos_PG</th>\n",
       "      <th>Pos_PG-SG</th>\n",
       "      <th>Pos_SF</th>\n",
       "      <th>Pos_SF-SG</th>\n",
       "      <th>Pos_SG</th>\n",
       "      <th>Pos_SG-SF</th>\n",
       "    </tr>\n",
       "  </thead>\n",
       "  <tbody>\n",
       "    <tr>\n",
       "      <th>0</th>\n",
       "      <td>2</td>\n",
       "      <td>28</td>\n",
       "      <td>76</td>\n",
       "      <td>75</td>\n",
       "      <td>26.3</td>\n",
       "      <td>2.8</td>\n",
       "      <td>5.1</td>\n",
       "      <td>0.547</td>\n",
       "      <td>0.0</td>\n",
       "      <td>0.0</td>\n",
       "      <td>...</td>\n",
       "      <td>1</td>\n",
       "      <td>0</td>\n",
       "      <td>0</td>\n",
       "      <td>0</td>\n",
       "      <td>0</td>\n",
       "      <td>0</td>\n",
       "      <td>0</td>\n",
       "      <td>0</td>\n",
       "      <td>0</td>\n",
       "      <td>0</td>\n",
       "    </tr>\n",
       "    <tr>\n",
       "      <th>1</th>\n",
       "      <td>3</td>\n",
       "      <td>24</td>\n",
       "      <td>56</td>\n",
       "      <td>56</td>\n",
       "      <td>32.6</td>\n",
       "      <td>7.3</td>\n",
       "      <td>13.0</td>\n",
       "      <td>0.557</td>\n",
       "      <td>0.0</td>\n",
       "      <td>0.1</td>\n",
       "      <td>...</td>\n",
       "      <td>1</td>\n",
       "      <td>0</td>\n",
       "      <td>0</td>\n",
       "      <td>0</td>\n",
       "      <td>0</td>\n",
       "      <td>0</td>\n",
       "      <td>0</td>\n",
       "      <td>0</td>\n",
       "      <td>0</td>\n",
       "      <td>0</td>\n",
       "    </tr>\n",
       "    <tr>\n",
       "      <th>2</th>\n",
       "      <td>5</td>\n",
       "      <td>36</td>\n",
       "      <td>47</td>\n",
       "      <td>12</td>\n",
       "      <td>22.3</td>\n",
       "      <td>5.4</td>\n",
       "      <td>9.7</td>\n",
       "      <td>0.550</td>\n",
       "      <td>0.3</td>\n",
       "      <td>1.0</td>\n",
       "      <td>...</td>\n",
       "      <td>1</td>\n",
       "      <td>0</td>\n",
       "      <td>0</td>\n",
       "      <td>0</td>\n",
       "      <td>0</td>\n",
       "      <td>0</td>\n",
       "      <td>0</td>\n",
       "      <td>0</td>\n",
       "      <td>0</td>\n",
       "      <td>0</td>\n",
       "    </tr>\n",
       "    <tr>\n",
       "      <th>3</th>\n",
       "      <td>6</td>\n",
       "      <td>23</td>\n",
       "      <td>65</td>\n",
       "      <td>21</td>\n",
       "      <td>22.6</td>\n",
       "      <td>3.9</td>\n",
       "      <td>10.5</td>\n",
       "      <td>0.372</td>\n",
       "      <td>1.6</td>\n",
       "      <td>5.2</td>\n",
       "      <td>...</td>\n",
       "      <td>0</td>\n",
       "      <td>0</td>\n",
       "      <td>0</td>\n",
       "      <td>0</td>\n",
       "      <td>0</td>\n",
       "      <td>0</td>\n",
       "      <td>0</td>\n",
       "      <td>0</td>\n",
       "      <td>1</td>\n",
       "      <td>0</td>\n",
       "    </tr>\n",
       "    <tr>\n",
       "      <th>4</th>\n",
       "      <td>6</td>\n",
       "      <td>23</td>\n",
       "      <td>50</td>\n",
       "      <td>19</td>\n",
       "      <td>26.3</td>\n",
       "      <td>4.7</td>\n",
       "      <td>12.6</td>\n",
       "      <td>0.375</td>\n",
       "      <td>1.9</td>\n",
       "      <td>6.1</td>\n",
       "      <td>...</td>\n",
       "      <td>0</td>\n",
       "      <td>0</td>\n",
       "      <td>0</td>\n",
       "      <td>0</td>\n",
       "      <td>0</td>\n",
       "      <td>0</td>\n",
       "      <td>0</td>\n",
       "      <td>0</td>\n",
       "      <td>1</td>\n",
       "      <td>0</td>\n",
       "    </tr>\n",
       "  </tbody>\n",
       "</table>\n",
       "<p>5 rows × 38 columns</p>\n",
       "</div>"
      ],
      "text/plain": [
       "   Rk  Age   G  GS    MP   FG   FGA    FG%   3P  3PA  ...  Pos_C  Pos_C-PF  \\\n",
       "0   2   28  76  75  26.3  2.8   5.1  0.547  0.0  0.0  ...      1         0   \n",
       "1   3   24  56  56  32.6  7.3  13.0  0.557  0.0  0.1  ...      1         0   \n",
       "2   5   36  47  12  22.3  5.4   9.7  0.550  0.3  1.0  ...      1         0   \n",
       "3   6   23  65  21  22.6  3.9  10.5  0.372  1.6  5.2  ...      0         0   \n",
       "4   6   23  50  19  26.3  4.7  12.6  0.375  1.9  6.1  ...      0         0   \n",
       "\n",
       "   Pos_PF  Pos_PF-SF  Pos_PG  Pos_PG-SG  Pos_SF  Pos_SF-SG  Pos_SG  Pos_SG-SF  \n",
       "0       0          0       0          0       0          0       0          0  \n",
       "1       0          0       0          0       0          0       0          0  \n",
       "2       0          0       0          0       0          0       0          0  \n",
       "3       0          0       0          0       0          0       1          0  \n",
       "4       0          0       0          0       0          0       1          0  \n",
       "\n",
       "[5 rows x 38 columns]"
      ]
     },
     "execution_count": 3,
     "metadata": {},
     "output_type": "execute_result"
    }
   ],
   "source": [
    "data.head()"
   ]
  },
  {
   "cell_type": "code",
   "execution_count": 4,
   "id": "0e89ae02",
   "metadata": {},
   "outputs": [
    {
     "name": "stdout",
     "output_type": "stream",
     "text": [
      "Index(['Rk', 'Age', 'G', 'GS', 'MP', 'FG', 'FGA', 'FG%', '3P', '3PA', '3P%',\n",
      "       '2P', '2PA', '2P%', 'eFG%', 'FT', 'FTA', 'FT%', 'ORB', 'DRB', 'TRB',\n",
      "       'AST', 'STL', 'BLK', 'TOV', 'PF', 'PTS', 'salary', 'Pos_C', 'Pos_C-PF',\n",
      "       'Pos_PF', 'Pos_PF-SF', 'Pos_PG', 'Pos_PG-SG', 'Pos_SF', 'Pos_SF-SG',\n",
      "       'Pos_SG', 'Pos_SG-SF'],\n",
      "      dtype='object')\n"
     ]
    }
   ],
   "source": [
    "# print the column names\n",
    "print(data.columns)"
   ]
  },
  {
   "cell_type": "code",
   "execution_count": 5,
   "id": "2f8fb01d",
   "metadata": {},
   "outputs": [],
   "source": [
    "selected_features = ['Age','TOV','AST','PTS','MP','Rk','DRB','BLK','2P%','ORB','3P%','eFG%']\n",
    "target_column = 'salary'"
   ]
  },
  {
   "cell_type": "code",
   "execution_count": 6,
   "id": "df58c2af",
   "metadata": {},
   "outputs": [],
   "source": [
    "# split the data into training and testing sets\n",
    "X = data[selected_features]\n",
    "y = data[target_column]\n",
    "X_train, X_test, y_train, y_test = train_test_split(X, y, test_size=0.2, random_state=42)"
   ]
  },
  {
   "cell_type": "code",
   "execution_count": 7,
   "id": "87877c19",
   "metadata": {},
   "outputs": [
    {
     "data": {
      "text/plain": [
       "GradientBoostingRegressor()"
      ]
     },
     "execution_count": 7,
     "metadata": {},
     "output_type": "execute_result"
    }
   ],
   "source": [
    "# train a gradient boosting regressor on the training set\n",
    "gb = GradientBoostingRegressor()\n",
    "gb.fit(X_train, y_train)\n"
   ]
  },
  {
   "cell_type": "code",
   "execution_count": 8,
   "id": "94030155",
   "metadata": {},
   "outputs": [],
   "source": [
    "# make predictions on the testing set\n",
    "y_pred = gb.predict(X_test)\n"
   ]
  },
  {
   "cell_type": "code",
   "execution_count": 9,
   "id": "fcc60958",
   "metadata": {},
   "outputs": [
    {
     "name": "stdout",
     "output_type": "stream",
     "text": [
      "Accuracy: 57.36%\n"
     ]
    }
   ],
   "source": [
    "accuracy = gb.score(X_test, y_test) * 100\n",
    "print(\"Accuracy: {:.2f}%\".format(accuracy))\n"
   ]
  },
  {
   "cell_type": "code",
   "execution_count": 10,
   "id": "14fa3659",
   "metadata": {},
   "outputs": [],
   "source": [
    "# split the data into training and testing sets\n",
    "X = data[selected_features]\n",
    "y = data['salary']\n",
    "X_train, X_test, y_train, y_test = train_test_split(X, y, test_size=0.2, random_state=42)"
   ]
  },
  {
   "cell_type": "code",
   "execution_count": 11,
   "id": "42018449",
   "metadata": {},
   "outputs": [],
   "source": [
    "# create a Gradient Boosting Regressor model\n",
    "gb = GradientBoostingRegressor(random_state=0)"
   ]
  },
  {
   "cell_type": "code",
   "execution_count": 12,
   "id": "3b724f53",
   "metadata": {},
   "outputs": [],
   "source": [
    "# define the hyperparameters to tune\n",
    "hyperparameters = {'n_estimators': [100, 200, 300],\n",
    "                   'max_depth': [3, 4, 5],\n",
    "                   'learning_rate': [0.1, 0.05, 0.01]}"
   ]
  },
  {
   "cell_type": "code",
   "execution_count": 13,
   "id": "69c47afa",
   "metadata": {},
   "outputs": [
    {
     "data": {
      "text/plain": [
       "GridSearchCV(cv=5, estimator=GradientBoostingRegressor(random_state=0),\n",
       "             param_grid={'learning_rate': [0.1, 0.05, 0.01],\n",
       "                         'max_depth': [3, 4, 5],\n",
       "                         'n_estimators': [100, 200, 300]},\n",
       "             scoring='neg_mean_squared_error')"
      ]
     },
     "execution_count": 13,
     "metadata": {},
     "output_type": "execute_result"
    }
   ],
   "source": [
    "# perform a grid search to find the best combination of hyperparameters\n",
    "grid_search = GridSearchCV(gb, hyperparameters, cv=5, scoring='neg_mean_squared_error')\n",
    "grid_search.fit(X_train, y_train)"
   ]
  },
  {
   "cell_type": "code",
   "execution_count": 14,
   "id": "efd759a1",
   "metadata": {},
   "outputs": [
    {
     "name": "stdout",
     "output_type": "stream",
     "text": [
      "Best Hyperparameters:  {'learning_rate': 0.1, 'max_depth': 3, 'n_estimators': 100}\n",
      "Best MSE:  0.02393509465367049\n"
     ]
    }
   ],
   "source": [
    "# print the best hyperparameters and mean squared error\n",
    "print(\"Best Hyperparameters: \", grid_search.best_params_)\n",
    "print(\"Best MSE: \", -grid_search.best_score_)"
   ]
  },
  {
   "cell_type": "code",
   "execution_count": 15,
   "id": "6883cea4",
   "metadata": {},
   "outputs": [],
   "source": [
    "# create a new Gradient Boosting Regressor model with the best hyperparameters found\n",
    "gb_final = GradientBoostingRegressor(n_estimators=200, max_depth=3, learning_rate=0.1, random_state=0)\n"
   ]
  },
  {
   "cell_type": "code",
   "execution_count": 16,
   "id": "2c1254bb",
   "metadata": {},
   "outputs": [
    {
     "data": {
      "text/plain": [
       "GradientBoostingRegressor(n_estimators=200, random_state=0)"
      ]
     },
     "execution_count": 16,
     "metadata": {},
     "output_type": "execute_result"
    }
   ],
   "source": [
    "# train the model on the entire training dataset\n",
    "gb_final.fit(X_train, y_train)"
   ]
  },
  {
   "cell_type": "code",
   "execution_count": 17,
   "id": "eeb19544",
   "metadata": {},
   "outputs": [],
   "source": [
    "# make predictions on the testing dataset\n",
    "y_pred = gb_final.predict(X_test)"
   ]
  },
  {
   "cell_type": "code",
   "execution_count": 18,
   "id": "db21548c",
   "metadata": {},
   "outputs": [],
   "source": [
    "# evaluate the performance of the model\n",
    "mse = mean_squared_error(y_test, y_pred)\n",
    "mae = mean_absolute_error(y_test, y_pred)\n",
    "r2 = r2_score(y_test, y_pred)"
   ]
  },
  {
   "cell_type": "code",
   "execution_count": 19,
   "id": "7d2af9b0",
   "metadata": {},
   "outputs": [
    {
     "name": "stdout",
     "output_type": "stream",
     "text": [
      "Mean Squared Error:  0.030684383397124582\n",
      "Mean Absolute Error:  0.1260008094291253\n",
      "R-squared:  0.568259050247782\n"
     ]
    }
   ],
   "source": [
    "print(\"Mean Squared Error: \", mse)\n",
    "print(\"Mean Absolute Error: \", mae)\n",
    "print(\"R-squared: \", r2)"
   ]
  },
  {
   "cell_type": "code",
   "execution_count": 20,
   "id": "aac385bc",
   "metadata": {},
   "outputs": [
    {
     "name": "stdout",
     "output_type": "stream",
     "text": [
      "R-squared: 56.83%\n"
     ]
    }
   ],
   "source": [
    "r2 = r2_score(y_test, y_pred)\n",
    "r2_percent = r2 * 100\n",
    "print(\"R-squared: {:.2f}%\".format(r2_percent))\n"
   ]
  },
  {
   "cell_type": "code",
   "execution_count": 21,
   "id": "b14ffc3c",
   "metadata": {},
   "outputs": [],
   "source": [
    "# define the hyperparameter search space\n",
    "param_grid = {\n",
    "    'learning_rate': Real(0.01, 0.1, prior='log-uniform'),\n",
    "    'n_estimators': Integer(100, 500),\n",
    "    'max_depth': Integer(2, 6),\n",
    "    'min_samples_split': Integer(2, 10),\n",
    "    'min_samples_leaf': Integer(1, 10),\n",
    "    'subsample': Real(0.5, 1.0, prior='uniform'),\n",
    "    'max_features': Categorical(['sqrt', 'log2', None])\n",
    "}"
   ]
  },
  {
   "cell_type": "code",
   "execution_count": 24,
   "id": "61f9077d",
   "metadata": {},
   "outputs": [
    {
     "name": "stdout",
     "output_type": "stream",
     "text": [
      "Fitting 5 folds for each of 1 candidates, totalling 5 fits\n",
      "[CV] END learning_rate=0.02571011142608906, max_depth=5, max_features=None, min_samples_leaf=4, min_samples_split=7, n_estimators=266, subsample=0.675465667449572; total time=   0.0s\n",
      "[CV] END learning_rate=0.02571011142608906, max_depth=5, max_features=None, min_samples_leaf=4, min_samples_split=7, n_estimators=266, subsample=0.675465667449572; total time=   0.0s\n",
      "[CV] END learning_rate=0.02571011142608906, max_depth=5, max_features=None, min_samples_leaf=4, min_samples_split=7, n_estimators=266, subsample=0.675465667449572; total time=   0.0s\n",
      "[CV] END learning_rate=0.02571011142608906, max_depth=5, max_features=None, min_samples_leaf=4, min_samples_split=7, n_estimators=266, subsample=0.675465667449572; total time=   0.1s\n",
      "[CV] END learning_rate=0.02571011142608906, max_depth=5, max_features=None, min_samples_leaf=4, min_samples_split=7, n_estimators=266, subsample=0.675465667449572; total time=   0.0s\n",
      "Fitting 5 folds for each of 1 candidates, totalling 5 fits\n",
      "[CV] END learning_rate=0.06876831063110332, max_depth=6, max_features=log2, min_samples_leaf=10, min_samples_split=9, n_estimators=125, subsample=0.5691542691392876; total time=   0.0s\n",
      "[CV] END learning_rate=0.06876831063110332, max_depth=6, max_features=log2, min_samples_leaf=10, min_samples_split=9, n_estimators=125, subsample=0.5691542691392876; total time=   0.0s\n",
      "[CV] END learning_rate=0.06876831063110332, max_depth=6, max_features=log2, min_samples_leaf=10, min_samples_split=9, n_estimators=125, subsample=0.5691542691392876; total time=   0.0s\n",
      "[CV] END learning_rate=0.06876831063110332, max_depth=6, max_features=log2, min_samples_leaf=10, min_samples_split=9, n_estimators=125, subsample=0.5691542691392876; total time=   0.0s\n",
      "[CV] END learning_rate=0.06876831063110332, max_depth=6, max_features=log2, min_samples_leaf=10, min_samples_split=9, n_estimators=125, subsample=0.5691542691392876; total time=   0.0s\n",
      "Fitting 5 folds for each of 1 candidates, totalling 5 fits\n",
      "[CV] END learning_rate=0.027850468951284804, max_depth=6, max_features=sqrt, min_samples_leaf=5, min_samples_split=4, n_estimators=281, subsample=0.5777240270252717; total time=   0.0s\n",
      "[CV] END learning_rate=0.027850468951284804, max_depth=6, max_features=sqrt, min_samples_leaf=5, min_samples_split=4, n_estimators=281, subsample=0.5777240270252717; total time=   0.0s\n",
      "[CV] END learning_rate=0.027850468951284804, max_depth=6, max_features=sqrt, min_samples_leaf=5, min_samples_split=4, n_estimators=281, subsample=0.5777240270252717; total time=   0.0s\n",
      "[CV] END learning_rate=0.027850468951284804, max_depth=6, max_features=sqrt, min_samples_leaf=5, min_samples_split=4, n_estimators=281, subsample=0.5777240270252717; total time=   0.0s\n",
      "[CV] END learning_rate=0.027850468951284804, max_depth=6, max_features=sqrt, min_samples_leaf=5, min_samples_split=4, n_estimators=281, subsample=0.5777240270252717; total time=   0.0s\n",
      "Fitting 5 folds for each of 1 candidates, totalling 5 fits\n",
      "[CV] END learning_rate=0.0649226126117357, max_depth=3, max_features=log2, min_samples_leaf=8, min_samples_split=6, n_estimators=138, subsample=0.8779002664179407; total time=   0.0s\n",
      "[CV] END learning_rate=0.0649226126117357, max_depth=3, max_features=log2, min_samples_leaf=8, min_samples_split=6, n_estimators=138, subsample=0.8779002664179407; total time=   0.0s\n",
      "[CV] END learning_rate=0.0649226126117357, max_depth=3, max_features=log2, min_samples_leaf=8, min_samples_split=6, n_estimators=138, subsample=0.8779002664179407; total time=   0.0s\n",
      "[CV] END learning_rate=0.0649226126117357, max_depth=3, max_features=log2, min_samples_leaf=8, min_samples_split=6, n_estimators=138, subsample=0.8779002664179407; total time=   0.0s\n",
      "[CV] END learning_rate=0.0649226126117357, max_depth=3, max_features=log2, min_samples_leaf=8, min_samples_split=6, n_estimators=138, subsample=0.8779002664179407; total time=   0.0s\n",
      "Fitting 5 folds for each of 1 candidates, totalling 5 fits\n",
      "[CV] END learning_rate=0.06303089031548757, max_depth=4, max_features=log2, min_samples_leaf=7, min_samples_split=9, n_estimators=387, subsample=0.712089036230341; total time=   0.0s\n",
      "[CV] END learning_rate=0.06303089031548757, max_depth=4, max_features=log2, min_samples_leaf=7, min_samples_split=9, n_estimators=387, subsample=0.712089036230341; total time=   0.0s\n",
      "[CV] END learning_rate=0.06303089031548757, max_depth=4, max_features=log2, min_samples_leaf=7, min_samples_split=9, n_estimators=387, subsample=0.712089036230341; total time=   0.0s\n",
      "[CV] END learning_rate=0.06303089031548757, max_depth=4, max_features=log2, min_samples_leaf=7, min_samples_split=9, n_estimators=387, subsample=0.712089036230341; total time=   0.0s\n",
      "[CV] END learning_rate=0.06303089031548757, max_depth=4, max_features=log2, min_samples_leaf=7, min_samples_split=9, n_estimators=387, subsample=0.712089036230341; total time=   0.0s\n",
      "Fitting 5 folds for each of 1 candidates, totalling 5 fits\n",
      "[CV] END learning_rate=0.054203585806438415, max_depth=6, max_features=sqrt, min_samples_leaf=3, min_samples_split=8, n_estimators=249, subsample=0.7295122570754029; total time=   0.0s\n",
      "[CV] END learning_rate=0.054203585806438415, max_depth=6, max_features=sqrt, min_samples_leaf=3, min_samples_split=8, n_estimators=249, subsample=0.7295122570754029; total time=   0.0s\n",
      "[CV] END learning_rate=0.054203585806438415, max_depth=6, max_features=sqrt, min_samples_leaf=3, min_samples_split=8, n_estimators=249, subsample=0.7295122570754029; total time=   0.0s\n",
      "[CV] END learning_rate=0.054203585806438415, max_depth=6, max_features=sqrt, min_samples_leaf=3, min_samples_split=8, n_estimators=249, subsample=0.7295122570754029; total time=   0.0s\n",
      "[CV] END learning_rate=0.054203585806438415, max_depth=6, max_features=sqrt, min_samples_leaf=3, min_samples_split=8, n_estimators=249, subsample=0.7295122570754029; total time=   0.0s\n",
      "Fitting 5 folds for each of 1 candidates, totalling 5 fits\n",
      "[CV] END learning_rate=0.04140753317701223, max_depth=5, max_features=log2, min_samples_leaf=9, min_samples_split=7, n_estimators=338, subsample=0.8243887548518629; total time=   0.0s\n",
      "[CV] END learning_rate=0.04140753317701223, max_depth=5, max_features=log2, min_samples_leaf=9, min_samples_split=7, n_estimators=338, subsample=0.8243887548518629; total time=   0.0s\n",
      "[CV] END learning_rate=0.04140753317701223, max_depth=5, max_features=log2, min_samples_leaf=9, min_samples_split=7, n_estimators=338, subsample=0.8243887548518629; total time=   0.0s\n",
      "[CV] END learning_rate=0.04140753317701223, max_depth=5, max_features=log2, min_samples_leaf=9, min_samples_split=7, n_estimators=338, subsample=0.8243887548518629; total time=   0.0s\n",
      "[CV] END learning_rate=0.04140753317701223, max_depth=5, max_features=log2, min_samples_leaf=9, min_samples_split=7, n_estimators=338, subsample=0.8243887548518629; total time=   0.0s\n",
      "Fitting 5 folds for each of 1 candidates, totalling 5 fits\n",
      "[CV] END learning_rate=0.03494645022019097, max_depth=6, max_features=log2, min_samples_leaf=9, min_samples_split=5, n_estimators=120, subsample=0.785388901339449; total time=   0.0s\n",
      "[CV] END learning_rate=0.03494645022019097, max_depth=6, max_features=log2, min_samples_leaf=9, min_samples_split=5, n_estimators=120, subsample=0.785388901339449; total time=   0.0s\n",
      "[CV] END learning_rate=0.03494645022019097, max_depth=6, max_features=log2, min_samples_leaf=9, min_samples_split=5, n_estimators=120, subsample=0.785388901339449; total time=   0.0s\n",
      "[CV] END learning_rate=0.03494645022019097, max_depth=6, max_features=log2, min_samples_leaf=9, min_samples_split=5, n_estimators=120, subsample=0.785388901339449; total time=   0.0s\n",
      "[CV] END learning_rate=0.03494645022019097, max_depth=6, max_features=log2, min_samples_leaf=9, min_samples_split=5, n_estimators=120, subsample=0.785388901339449; total time=   0.0s\n",
      "Fitting 5 folds for each of 1 candidates, totalling 5 fits\n",
      "[CV] END learning_rate=0.09025639567934764, max_depth=5, max_features=None, min_samples_leaf=5, min_samples_split=5, n_estimators=185, subsample=0.5000305253763367; total time=   0.0s\n",
      "[CV] END learning_rate=0.09025639567934764, max_depth=5, max_features=None, min_samples_leaf=5, min_samples_split=5, n_estimators=185, subsample=0.5000305253763367; total time=   0.0s\n",
      "[CV] END learning_rate=0.09025639567934764, max_depth=5, max_features=None, min_samples_leaf=5, min_samples_split=5, n_estimators=185, subsample=0.5000305253763367; total time=   0.0s\n"
     ]
    },
    {
     "name": "stdout",
     "output_type": "stream",
     "text": [
      "[CV] END learning_rate=0.09025639567934764, max_depth=5, max_features=None, min_samples_leaf=5, min_samples_split=5, n_estimators=185, subsample=0.5000305253763367; total time=   0.0s\n",
      "[CV] END learning_rate=0.09025639567934764, max_depth=5, max_features=None, min_samples_leaf=5, min_samples_split=5, n_estimators=185, subsample=0.5000305253763367; total time=   0.0s\n",
      "Fitting 5 folds for each of 1 candidates, totalling 5 fits\n",
      "[CV] END learning_rate=0.010083941261235433, max_depth=5, max_features=log2, min_samples_leaf=3, min_samples_split=7, n_estimators=210, subsample=0.6564196531173141; total time=   0.0s\n",
      "[CV] END learning_rate=0.010083941261235433, max_depth=5, max_features=log2, min_samples_leaf=3, min_samples_split=7, n_estimators=210, subsample=0.6564196531173141; total time=   0.0s\n",
      "[CV] END learning_rate=0.010083941261235433, max_depth=5, max_features=log2, min_samples_leaf=3, min_samples_split=7, n_estimators=210, subsample=0.6564196531173141; total time=   0.0s\n",
      "[CV] END learning_rate=0.010083941261235433, max_depth=5, max_features=log2, min_samples_leaf=3, min_samples_split=7, n_estimators=210, subsample=0.6564196531173141; total time=   0.0s\n",
      "[CV] END learning_rate=0.010083941261235433, max_depth=5, max_features=log2, min_samples_leaf=3, min_samples_split=7, n_estimators=210, subsample=0.6564196531173141; total time=   0.0s\n",
      "Fitting 5 folds for each of 1 candidates, totalling 5 fits\n",
      "[CV] END learning_rate=0.036857464570839195, max_depth=6, max_features=None, min_samples_leaf=5, min_samples_split=10, n_estimators=275, subsample=0.7739850926808465; total time=   0.1s\n",
      "[CV] END learning_rate=0.036857464570839195, max_depth=6, max_features=None, min_samples_leaf=5, min_samples_split=10, n_estimators=275, subsample=0.7739850926808465; total time=   0.1s\n",
      "[CV] END learning_rate=0.036857464570839195, max_depth=6, max_features=None, min_samples_leaf=5, min_samples_split=10, n_estimators=275, subsample=0.7739850926808465; total time=   0.1s\n",
      "[CV] END learning_rate=0.036857464570839195, max_depth=6, max_features=None, min_samples_leaf=5, min_samples_split=10, n_estimators=275, subsample=0.7739850926808465; total time=   0.1s\n",
      "[CV] END learning_rate=0.036857464570839195, max_depth=6, max_features=None, min_samples_leaf=5, min_samples_split=10, n_estimators=275, subsample=0.7739850926808465; total time=   0.1s\n",
      "Fitting 5 folds for each of 1 candidates, totalling 5 fits\n",
      "[CV] END learning_rate=0.029565352598734114, max_depth=5, max_features=None, min_samples_leaf=2, min_samples_split=2, n_estimators=250, subsample=0.9150947805448391; total time=   0.1s\n",
      "[CV] END learning_rate=0.029565352598734114, max_depth=5, max_features=None, min_samples_leaf=2, min_samples_split=2, n_estimators=250, subsample=0.9150947805448391; total time=   0.1s\n",
      "[CV] END learning_rate=0.029565352598734114, max_depth=5, max_features=None, min_samples_leaf=2, min_samples_split=2, n_estimators=250, subsample=0.9150947805448391; total time=   0.1s\n",
      "[CV] END learning_rate=0.029565352598734114, max_depth=5, max_features=None, min_samples_leaf=2, min_samples_split=2, n_estimators=250, subsample=0.9150947805448391; total time=   0.1s\n",
      "[CV] END learning_rate=0.029565352598734114, max_depth=5, max_features=None, min_samples_leaf=2, min_samples_split=2, n_estimators=250, subsample=0.9150947805448391; total time=   0.1s\n",
      "Fitting 5 folds for each of 1 candidates, totalling 5 fits\n",
      "[CV] END learning_rate=0.03608400868491144, max_depth=6, max_features=None, min_samples_leaf=1, min_samples_split=3, n_estimators=500, subsample=0.5573796634378352; total time=   0.2s\n",
      "[CV] END learning_rate=0.03608400868491144, max_depth=6, max_features=None, min_samples_leaf=1, min_samples_split=3, n_estimators=500, subsample=0.5573796634378352; total time=   0.2s\n",
      "[CV] END learning_rate=0.03608400868491144, max_depth=6, max_features=None, min_samples_leaf=1, min_samples_split=3, n_estimators=500, subsample=0.5573796634378352; total time=   0.2s\n",
      "[CV] END learning_rate=0.03608400868491144, max_depth=6, max_features=None, min_samples_leaf=1, min_samples_split=3, n_estimators=500, subsample=0.5573796634378352; total time=   0.2s\n",
      "[CV] END learning_rate=0.03608400868491144, max_depth=6, max_features=None, min_samples_leaf=1, min_samples_split=3, n_estimators=500, subsample=0.5573796634378352; total time=   0.2s\n",
      "Fitting 5 folds for each of 1 candidates, totalling 5 fits\n",
      "[CV] END learning_rate=0.1, max_depth=2, max_features=None, min_samples_leaf=1, min_samples_split=2, n_estimators=500, subsample=1.0; total time=   0.1s\n",
      "[CV] END learning_rate=0.1, max_depth=2, max_features=None, min_samples_leaf=1, min_samples_split=2, n_estimators=500, subsample=1.0; total time=   0.1s\n",
      "[CV] END learning_rate=0.1, max_depth=2, max_features=None, min_samples_leaf=1, min_samples_split=2, n_estimators=500, subsample=1.0; total time=   0.1s\n",
      "[CV] END learning_rate=0.1, max_depth=2, max_features=None, min_samples_leaf=1, min_samples_split=2, n_estimators=500, subsample=1.0; total time=   0.1s\n",
      "[CV] END learning_rate=0.1, max_depth=2, max_features=None, min_samples_leaf=1, min_samples_split=2, n_estimators=500, subsample=1.0; total time=   0.1s\n",
      "Fitting 5 folds for each of 1 candidates, totalling 5 fits\n",
      "[CV] END learning_rate=0.023201697068865303, max_depth=4, max_features=None, min_samples_leaf=1, min_samples_split=5, n_estimators=500, subsample=0.9511528151394625; total time=   0.2s\n",
      "[CV] END learning_rate=0.023201697068865303, max_depth=4, max_features=None, min_samples_leaf=1, min_samples_split=5, n_estimators=500, subsample=0.9511528151394625; total time=   0.2s\n",
      "[CV] END learning_rate=0.023201697068865303, max_depth=4, max_features=None, min_samples_leaf=1, min_samples_split=5, n_estimators=500, subsample=0.9511528151394625; total time=   0.2s\n",
      "[CV] END learning_rate=0.023201697068865303, max_depth=4, max_features=None, min_samples_leaf=1, min_samples_split=5, n_estimators=500, subsample=0.9511528151394625; total time=   0.2s\n",
      "[CV] END learning_rate=0.023201697068865303, max_depth=4, max_features=None, min_samples_leaf=1, min_samples_split=5, n_estimators=500, subsample=0.9511528151394625; total time=   0.3s\n",
      "Fitting 5 folds for each of 1 candidates, totalling 5 fits\n",
      "[CV] END learning_rate=0.03456267389085299, max_depth=4, max_features=sqrt, min_samples_leaf=1, min_samples_split=7, n_estimators=500, subsample=0.959812116286356; total time=   0.0s\n",
      "[CV] END learning_rate=0.03456267389085299, max_depth=4, max_features=sqrt, min_samples_leaf=1, min_samples_split=7, n_estimators=500, subsample=0.959812116286356; total time=   0.0s\n",
      "[CV] END learning_rate=0.03456267389085299, max_depth=4, max_features=sqrt, min_samples_leaf=1, min_samples_split=7, n_estimators=500, subsample=0.959812116286356; total time=   0.0s\n",
      "[CV] END learning_rate=0.03456267389085299, max_depth=4, max_features=sqrt, min_samples_leaf=1, min_samples_split=7, n_estimators=500, subsample=0.959812116286356; total time=   0.0s\n",
      "[CV] END learning_rate=0.03456267389085299, max_depth=4, max_features=sqrt, min_samples_leaf=1, min_samples_split=7, n_estimators=500, subsample=0.959812116286356; total time=   0.0s\n",
      "Fitting 5 folds for each of 1 candidates, totalling 5 fits\n",
      "[CV] END learning_rate=0.03234079251904705, max_depth=3, max_features=None, min_samples_leaf=3, min_samples_split=8, n_estimators=500, subsample=0.5926731602704209; total time=   0.1s\n",
      "[CV] END learning_rate=0.03234079251904705, max_depth=3, max_features=None, min_samples_leaf=3, min_samples_split=8, n_estimators=500, subsample=0.5926731602704209; total time=   0.1s\n",
      "[CV] END learning_rate=0.03234079251904705, max_depth=3, max_features=None, min_samples_leaf=3, min_samples_split=8, n_estimators=500, subsample=0.5926731602704209; total time=   0.1s\n",
      "[CV] END learning_rate=0.03234079251904705, max_depth=3, max_features=None, min_samples_leaf=3, min_samples_split=8, n_estimators=500, subsample=0.5926731602704209; total time=   0.1s\n",
      "[CV] END learning_rate=0.03234079251904705, max_depth=3, max_features=None, min_samples_leaf=3, min_samples_split=8, n_estimators=500, subsample=0.5926731602704209; total time=   0.1s\n",
      "Fitting 5 folds for each of 1 candidates, totalling 5 fits\n",
      "[CV] END learning_rate=0.069405094558159, max_depth=6, max_features=None, min_samples_leaf=1, min_samples_split=2, n_estimators=500, subsample=0.5; total time=   0.2s\n"
     ]
    },
    {
     "name": "stdout",
     "output_type": "stream",
     "text": [
      "[CV] END learning_rate=0.069405094558159, max_depth=6, max_features=None, min_samples_leaf=1, min_samples_split=2, n_estimators=500, subsample=0.5; total time=   0.1s\n",
      "[CV] END learning_rate=0.069405094558159, max_depth=6, max_features=None, min_samples_leaf=1, min_samples_split=2, n_estimators=500, subsample=0.5; total time=   0.2s\n",
      "[CV] END learning_rate=0.069405094558159, max_depth=6, max_features=None, min_samples_leaf=1, min_samples_split=2, n_estimators=500, subsample=0.5; total time=   0.2s\n",
      "[CV] END learning_rate=0.069405094558159, max_depth=6, max_features=None, min_samples_leaf=1, min_samples_split=2, n_estimators=500, subsample=0.5; total time=   0.1s\n",
      "Fitting 5 folds for each of 1 candidates, totalling 5 fits\n",
      "[CV] END learning_rate=0.02403198414126917, max_depth=6, max_features=None, min_samples_leaf=1, min_samples_split=10, n_estimators=500, subsample=0.7665988836209314; total time=   0.3s\n",
      "[CV] END learning_rate=0.02403198414126917, max_depth=6, max_features=None, min_samples_leaf=1, min_samples_split=10, n_estimators=500, subsample=0.7665988836209314; total time=   0.3s\n",
      "[CV] END learning_rate=0.02403198414126917, max_depth=6, max_features=None, min_samples_leaf=1, min_samples_split=10, n_estimators=500, subsample=0.7665988836209314; total time=   0.3s\n",
      "[CV] END learning_rate=0.02403198414126917, max_depth=6, max_features=None, min_samples_leaf=1, min_samples_split=10, n_estimators=500, subsample=0.7665988836209314; total time=   0.3s\n",
      "[CV] END learning_rate=0.02403198414126917, max_depth=6, max_features=None, min_samples_leaf=1, min_samples_split=10, n_estimators=500, subsample=0.7665988836209314; total time=   0.4s\n",
      "Fitting 5 folds for each of 1 candidates, totalling 5 fits\n",
      "[CV] END learning_rate=0.03427393151115433, max_depth=5, max_features=None, min_samples_leaf=1, min_samples_split=2, n_estimators=500, subsample=0.994969178611587; total time=   0.4s\n",
      "[CV] END learning_rate=0.03427393151115433, max_depth=5, max_features=None, min_samples_leaf=1, min_samples_split=2, n_estimators=500, subsample=0.994969178611587; total time=   0.3s\n",
      "[CV] END learning_rate=0.03427393151115433, max_depth=5, max_features=None, min_samples_leaf=1, min_samples_split=2, n_estimators=500, subsample=0.994969178611587; total time=   0.3s\n",
      "[CV] END learning_rate=0.03427393151115433, max_depth=5, max_features=None, min_samples_leaf=1, min_samples_split=2, n_estimators=500, subsample=0.994969178611587; total time=   0.3s\n",
      "[CV] END learning_rate=0.03427393151115433, max_depth=5, max_features=None, min_samples_leaf=1, min_samples_split=2, n_estimators=500, subsample=0.994969178611587; total time=   0.3s\n",
      "Fitting 5 folds for each of 1 candidates, totalling 5 fits\n",
      "[CV] END learning_rate=0.028479343567815132, max_depth=3, max_features=log2, min_samples_leaf=1, min_samples_split=2, n_estimators=500, subsample=0.6857547333935611; total time=   0.0s\n",
      "[CV] END learning_rate=0.028479343567815132, max_depth=3, max_features=log2, min_samples_leaf=1, min_samples_split=2, n_estimators=500, subsample=0.6857547333935611; total time=   0.0s\n",
      "[CV] END learning_rate=0.028479343567815132, max_depth=3, max_features=log2, min_samples_leaf=1, min_samples_split=2, n_estimators=500, subsample=0.6857547333935611; total time=   0.0s\n",
      "[CV] END learning_rate=0.028479343567815132, max_depth=3, max_features=log2, min_samples_leaf=1, min_samples_split=2, n_estimators=500, subsample=0.6857547333935611; total time=   0.0s\n",
      "[CV] END learning_rate=0.028479343567815132, max_depth=3, max_features=log2, min_samples_leaf=1, min_samples_split=2, n_estimators=500, subsample=0.6857547333935611; total time=   0.0s\n",
      "Fitting 5 folds for each of 1 candidates, totalling 5 fits\n",
      "[CV] END learning_rate=0.01806112632710817, max_depth=6, max_features=log2, min_samples_leaf=1, min_samples_split=10, n_estimators=500, subsample=1.0; total time=   0.0s\n",
      "[CV] END learning_rate=0.01806112632710817, max_depth=6, max_features=log2, min_samples_leaf=1, min_samples_split=10, n_estimators=500, subsample=1.0; total time=   0.0s\n",
      "[CV] END learning_rate=0.01806112632710817, max_depth=6, max_features=log2, min_samples_leaf=1, min_samples_split=10, n_estimators=500, subsample=1.0; total time=   0.1s\n",
      "[CV] END learning_rate=0.01806112632710817, max_depth=6, max_features=log2, min_samples_leaf=1, min_samples_split=10, n_estimators=500, subsample=1.0; total time=   0.0s\n",
      "[CV] END learning_rate=0.01806112632710817, max_depth=6, max_features=log2, min_samples_leaf=1, min_samples_split=10, n_estimators=500, subsample=1.0; total time=   0.0s\n",
      "Fitting 5 folds for each of 1 candidates, totalling 5 fits\n",
      "[CV] END learning_rate=0.03654940490266949, max_depth=6, max_features=None, min_samples_leaf=6, min_samples_split=2, n_estimators=448, subsample=0.8431802883464822; total time=   0.2s\n",
      "[CV] END learning_rate=0.03654940490266949, max_depth=6, max_features=None, min_samples_leaf=6, min_samples_split=2, n_estimators=448, subsample=0.8431802883464822; total time=   0.2s\n",
      "[CV] END learning_rate=0.03654940490266949, max_depth=6, max_features=None, min_samples_leaf=6, min_samples_split=2, n_estimators=448, subsample=0.8431802883464822; total time=   0.2s\n",
      "[CV] END learning_rate=0.03654940490266949, max_depth=6, max_features=None, min_samples_leaf=6, min_samples_split=2, n_estimators=448, subsample=0.8431802883464822; total time=   0.2s\n",
      "[CV] END learning_rate=0.03654940490266949, max_depth=6, max_features=None, min_samples_leaf=6, min_samples_split=2, n_estimators=448, subsample=0.8431802883464822; total time=   0.2s\n",
      "Fitting 5 folds for each of 1 candidates, totalling 5 fits\n",
      "[CV] END learning_rate=0.03552197376980932, max_depth=6, max_features=sqrt, min_samples_leaf=7, min_samples_split=2, n_estimators=487, subsample=0.5444105448400893; total time=   0.0s\n",
      "[CV] END learning_rate=0.03552197376980932, max_depth=6, max_features=sqrt, min_samples_leaf=7, min_samples_split=2, n_estimators=487, subsample=0.5444105448400893; total time=   0.0s\n",
      "[CV] END learning_rate=0.03552197376980932, max_depth=6, max_features=sqrt, min_samples_leaf=7, min_samples_split=2, n_estimators=487, subsample=0.5444105448400893; total time=   0.0s\n",
      "[CV] END learning_rate=0.03552197376980932, max_depth=6, max_features=sqrt, min_samples_leaf=7, min_samples_split=2, n_estimators=487, subsample=0.5444105448400893; total time=   0.0s\n",
      "[CV] END learning_rate=0.03552197376980932, max_depth=6, max_features=sqrt, min_samples_leaf=7, min_samples_split=2, n_estimators=487, subsample=0.5444105448400893; total time=   0.0s\n",
      "Fitting 5 folds for each of 1 candidates, totalling 5 fits\n",
      "[CV] END learning_rate=0.01540781527044295, max_depth=4, max_features=sqrt, min_samples_leaf=1, min_samples_split=4, n_estimators=500, subsample=0.5549818763407878; total time=   0.0s\n",
      "[CV] END learning_rate=0.01540781527044295, max_depth=4, max_features=sqrt, min_samples_leaf=1, min_samples_split=4, n_estimators=500, subsample=0.5549818763407878; total time=   0.0s\n",
      "[CV] END learning_rate=0.01540781527044295, max_depth=4, max_features=sqrt, min_samples_leaf=1, min_samples_split=4, n_estimators=500, subsample=0.5549818763407878; total time=   0.0s\n",
      "[CV] END learning_rate=0.01540781527044295, max_depth=4, max_features=sqrt, min_samples_leaf=1, min_samples_split=4, n_estimators=500, subsample=0.5549818763407878; total time=   0.0s\n",
      "[CV] END learning_rate=0.01540781527044295, max_depth=4, max_features=sqrt, min_samples_leaf=1, min_samples_split=4, n_estimators=500, subsample=0.5549818763407878; total time=   0.0s\n",
      "Fitting 5 folds for each of 1 candidates, totalling 5 fits\n",
      "[CV] END learning_rate=0.020409173241058284, max_depth=4, max_features=None, min_samples_leaf=1, min_samples_split=9, n_estimators=500, subsample=0.8513702231637117; total time=   0.2s\n",
      "[CV] END learning_rate=0.020409173241058284, max_depth=4, max_features=None, min_samples_leaf=1, min_samples_split=9, n_estimators=500, subsample=0.8513702231637117; total time=   0.2s\n",
      "[CV] END learning_rate=0.020409173241058284, max_depth=4, max_features=None, min_samples_leaf=1, min_samples_split=9, n_estimators=500, subsample=0.8513702231637117; total time=   0.2s\n",
      "[CV] END learning_rate=0.020409173241058284, max_depth=4, max_features=None, min_samples_leaf=1, min_samples_split=9, n_estimators=500, subsample=0.8513702231637117; total time=   0.2s\n"
     ]
    },
    {
     "name": "stdout",
     "output_type": "stream",
     "text": [
      "[CV] END learning_rate=0.020409173241058284, max_depth=4, max_features=None, min_samples_leaf=1, min_samples_split=9, n_estimators=500, subsample=0.8513702231637117; total time=   0.2s\n",
      "Fitting 5 folds for each of 1 candidates, totalling 5 fits\n",
      "[CV] END learning_rate=0.01, max_depth=6, max_features=None, min_samples_leaf=1, min_samples_split=2, n_estimators=500, subsample=0.5; total time=   0.2s\n",
      "[CV] END learning_rate=0.01, max_depth=6, max_features=None, min_samples_leaf=1, min_samples_split=2, n_estimators=500, subsample=0.5; total time=   0.2s\n",
      "[CV] END learning_rate=0.01, max_depth=6, max_features=None, min_samples_leaf=1, min_samples_split=2, n_estimators=500, subsample=0.5; total time=   0.2s\n",
      "[CV] END learning_rate=0.01, max_depth=6, max_features=None, min_samples_leaf=1, min_samples_split=2, n_estimators=500, subsample=0.5; total time=   0.2s\n",
      "[CV] END learning_rate=0.01, max_depth=6, max_features=None, min_samples_leaf=1, min_samples_split=2, n_estimators=500, subsample=0.5; total time=   0.2s\n",
      "Fitting 5 folds for each of 1 candidates, totalling 5 fits\n",
      "[CV] END learning_rate=0.1, max_depth=6, max_features=None, min_samples_leaf=1, min_samples_split=10, n_estimators=500, subsample=1.0; total time=   0.3s\n",
      "[CV] END learning_rate=0.1, max_depth=6, max_features=None, min_samples_leaf=1, min_samples_split=10, n_estimators=500, subsample=1.0; total time=   0.2s\n",
      "[CV] END learning_rate=0.1, max_depth=6, max_features=None, min_samples_leaf=1, min_samples_split=10, n_estimators=500, subsample=1.0; total time=   0.3s\n",
      "[CV] END learning_rate=0.1, max_depth=6, max_features=None, min_samples_leaf=1, min_samples_split=10, n_estimators=500, subsample=1.0; total time=   0.3s\n",
      "[CV] END learning_rate=0.1, max_depth=6, max_features=None, min_samples_leaf=1, min_samples_split=10, n_estimators=500, subsample=1.0; total time=   0.3s\n",
      "Fitting 5 folds for each of 1 candidates, totalling 5 fits\n",
      "[CV] END learning_rate=0.01, max_depth=6, max_features=None, min_samples_leaf=1, min_samples_split=2, n_estimators=100, subsample=0.5; total time=   0.0s\n",
      "[CV] END learning_rate=0.01, max_depth=6, max_features=None, min_samples_leaf=1, min_samples_split=2, n_estimators=100, subsample=0.5; total time=   0.0s\n",
      "[CV] END learning_rate=0.01, max_depth=6, max_features=None, min_samples_leaf=1, min_samples_split=2, n_estimators=100, subsample=0.5; total time=   0.0s\n",
      "[CV] END learning_rate=0.01, max_depth=6, max_features=None, min_samples_leaf=1, min_samples_split=2, n_estimators=100, subsample=0.5; total time=   0.0s\n",
      "[CV] END learning_rate=0.01, max_depth=6, max_features=None, min_samples_leaf=1, min_samples_split=2, n_estimators=100, subsample=0.5; total time=   0.0s\n",
      "Fitting 5 folds for each of 1 candidates, totalling 5 fits\n",
      "[CV] END learning_rate=0.020436498885450113, max_depth=6, max_features=None, min_samples_leaf=1, min_samples_split=5, n_estimators=500, subsample=0.5585557402527072; total time=   0.2s\n",
      "[CV] END learning_rate=0.020436498885450113, max_depth=6, max_features=None, min_samples_leaf=1, min_samples_split=5, n_estimators=500, subsample=0.5585557402527072; total time=   0.2s\n",
      "[CV] END learning_rate=0.020436498885450113, max_depth=6, max_features=None, min_samples_leaf=1, min_samples_split=5, n_estimators=500, subsample=0.5585557402527072; total time=   0.3s\n",
      "[CV] END learning_rate=0.020436498885450113, max_depth=6, max_features=None, min_samples_leaf=1, min_samples_split=5, n_estimators=500, subsample=0.5585557402527072; total time=   0.2s\n",
      "[CV] END learning_rate=0.020436498885450113, max_depth=6, max_features=None, min_samples_leaf=1, min_samples_split=5, n_estimators=500, subsample=0.5585557402527072; total time=   0.2s\n",
      "Fitting 5 folds for each of 1 candidates, totalling 5 fits\n",
      "[CV] END learning_rate=0.030755860586674552, max_depth=6, max_features=None, min_samples_leaf=1, min_samples_split=2, n_estimators=443, subsample=0.5; total time=   0.1s\n",
      "[CV] END learning_rate=0.030755860586674552, max_depth=6, max_features=None, min_samples_leaf=1, min_samples_split=2, n_estimators=443, subsample=0.5; total time=   0.1s\n",
      "[CV] END learning_rate=0.030755860586674552, max_depth=6, max_features=None, min_samples_leaf=1, min_samples_split=2, n_estimators=443, subsample=0.5; total time=   0.1s\n",
      "[CV] END learning_rate=0.030755860586674552, max_depth=6, max_features=None, min_samples_leaf=1, min_samples_split=2, n_estimators=443, subsample=0.5; total time=   0.1s\n",
      "[CV] END learning_rate=0.030755860586674552, max_depth=6, max_features=None, min_samples_leaf=1, min_samples_split=2, n_estimators=443, subsample=0.5; total time=   0.1s\n",
      "Fitting 5 folds for each of 1 candidates, totalling 5 fits\n",
      "[CV] END learning_rate=0.013905245834402434, max_depth=4, max_features=log2, min_samples_leaf=1, min_samples_split=2, n_estimators=500, subsample=1.0; total time=   0.0s\n",
      "[CV] END learning_rate=0.013905245834402434, max_depth=4, max_features=log2, min_samples_leaf=1, min_samples_split=2, n_estimators=500, subsample=1.0; total time=   0.0s\n",
      "[CV] END learning_rate=0.013905245834402434, max_depth=4, max_features=log2, min_samples_leaf=1, min_samples_split=2, n_estimators=500, subsample=1.0; total time=   0.0s\n",
      "[CV] END learning_rate=0.013905245834402434, max_depth=4, max_features=log2, min_samples_leaf=1, min_samples_split=2, n_estimators=500, subsample=1.0; total time=   0.0s\n",
      "[CV] END learning_rate=0.013905245834402434, max_depth=4, max_features=log2, min_samples_leaf=1, min_samples_split=2, n_estimators=500, subsample=1.0; total time=   0.0s\n",
      "Fitting 5 folds for each of 1 candidates, totalling 5 fits\n",
      "[CV] END learning_rate=0.01, max_depth=6, max_features=None, min_samples_leaf=1, min_samples_split=7, n_estimators=500, subsample=0.5; total time=   0.1s\n",
      "[CV] END learning_rate=0.01, max_depth=6, max_features=None, min_samples_leaf=1, min_samples_split=7, n_estimators=500, subsample=0.5; total time=   0.1s\n",
      "[CV] END learning_rate=0.01, max_depth=6, max_features=None, min_samples_leaf=1, min_samples_split=7, n_estimators=500, subsample=0.5; total time=   0.1s\n",
      "[CV] END learning_rate=0.01, max_depth=6, max_features=None, min_samples_leaf=1, min_samples_split=7, n_estimators=500, subsample=0.5; total time=   0.2s\n",
      "[CV] END learning_rate=0.01, max_depth=6, max_features=None, min_samples_leaf=1, min_samples_split=7, n_estimators=500, subsample=0.5; total time=   0.2s\n",
      "Fitting 5 folds for each of 1 candidates, totalling 5 fits\n",
      "[CV] END learning_rate=0.01, max_depth=6, max_features=None, min_samples_leaf=1, min_samples_split=5, n_estimators=440, subsample=0.8025494550180581; total time=   0.2s\n",
      "[CV] END learning_rate=0.01, max_depth=6, max_features=None, min_samples_leaf=1, min_samples_split=5, n_estimators=440, subsample=0.8025494550180581; total time=   0.2s\n",
      "[CV] END learning_rate=0.01, max_depth=6, max_features=None, min_samples_leaf=1, min_samples_split=5, n_estimators=440, subsample=0.8025494550180581; total time=   0.2s\n",
      "[CV] END learning_rate=0.01, max_depth=6, max_features=None, min_samples_leaf=1, min_samples_split=5, n_estimators=440, subsample=0.8025494550180581; total time=   0.2s\n",
      "[CV] END learning_rate=0.01, max_depth=6, max_features=None, min_samples_leaf=1, min_samples_split=5, n_estimators=440, subsample=0.8025494550180581; total time=   0.2s\n",
      "Fitting 5 folds for each of 1 candidates, totalling 5 fits\n",
      "[CV] END learning_rate=0.03985442277117093, max_depth=6, max_features=None, min_samples_leaf=1, min_samples_split=9, n_estimators=439, subsample=0.5; total time=   0.1s\n",
      "[CV] END learning_rate=0.03985442277117093, max_depth=6, max_features=None, min_samples_leaf=1, min_samples_split=9, n_estimators=439, subsample=0.5; total time=   0.1s\n",
      "[CV] END learning_rate=0.03985442277117093, max_depth=6, max_features=None, min_samples_leaf=1, min_samples_split=9, n_estimators=439, subsample=0.5; total time=   0.1s\n",
      "[CV] END learning_rate=0.03985442277117093, max_depth=6, max_features=None, min_samples_leaf=1, min_samples_split=9, n_estimators=439, subsample=0.5; total time=   0.1s\n",
      "[CV] END learning_rate=0.03985442277117093, max_depth=6, max_features=None, min_samples_leaf=1, min_samples_split=9, n_estimators=439, subsample=0.5; total time=   0.1s\n",
      "Fitting 5 folds for each of 1 candidates, totalling 5 fits\n",
      "[CV] END learning_rate=0.01, max_depth=6, max_features=None, min_samples_leaf=10, min_samples_split=10, n_estimators=500, subsample=1.0; total time=   0.2s\n"
     ]
    },
    {
     "name": "stdout",
     "output_type": "stream",
     "text": [
      "[CV] END learning_rate=0.01, max_depth=6, max_features=None, min_samples_leaf=10, min_samples_split=10, n_estimators=500, subsample=1.0; total time=   0.2s\n",
      "[CV] END learning_rate=0.01, max_depth=6, max_features=None, min_samples_leaf=10, min_samples_split=10, n_estimators=500, subsample=1.0; total time=   0.2s\n",
      "[CV] END learning_rate=0.01, max_depth=6, max_features=None, min_samples_leaf=10, min_samples_split=10, n_estimators=500, subsample=1.0; total time=   0.2s\n",
      "[CV] END learning_rate=0.01, max_depth=6, max_features=None, min_samples_leaf=10, min_samples_split=10, n_estimators=500, subsample=1.0; total time=   0.2s\n",
      "Fitting 5 folds for each of 1 candidates, totalling 5 fits\n",
      "[CV] END learning_rate=0.010675043531128631, max_depth=2, max_features=None, min_samples_leaf=1, min_samples_split=10, n_estimators=393, subsample=0.8774773765028392; total time=   0.0s\n",
      "[CV] END learning_rate=0.010675043531128631, max_depth=2, max_features=None, min_samples_leaf=1, min_samples_split=10, n_estimators=393, subsample=0.8774773765028392; total time=   0.0s\n",
      "[CV] END learning_rate=0.010675043531128631, max_depth=2, max_features=None, min_samples_leaf=1, min_samples_split=10, n_estimators=393, subsample=0.8774773765028392; total time=   0.1s\n",
      "[CV] END learning_rate=0.010675043531128631, max_depth=2, max_features=None, min_samples_leaf=1, min_samples_split=10, n_estimators=393, subsample=0.8774773765028392; total time=   0.1s\n",
      "[CV] END learning_rate=0.010675043531128631, max_depth=2, max_features=None, min_samples_leaf=1, min_samples_split=10, n_estimators=393, subsample=0.8774773765028392; total time=   0.1s\n",
      "Fitting 5 folds for each of 1 candidates, totalling 5 fits\n",
      "[CV] END learning_rate=0.04097146053451443, max_depth=6, max_features=None, min_samples_leaf=1, min_samples_split=6, n_estimators=352, subsample=0.8650924221895054; total time=   0.2s\n",
      "[CV] END learning_rate=0.04097146053451443, max_depth=6, max_features=None, min_samples_leaf=1, min_samples_split=6, n_estimators=352, subsample=0.8650924221895054; total time=   0.2s\n",
      "[CV] END learning_rate=0.04097146053451443, max_depth=6, max_features=None, min_samples_leaf=1, min_samples_split=6, n_estimators=352, subsample=0.8650924221895054; total time=   0.2s\n",
      "[CV] END learning_rate=0.04097146053451443, max_depth=6, max_features=None, min_samples_leaf=1, min_samples_split=6, n_estimators=352, subsample=0.8650924221895054; total time=   0.2s\n",
      "[CV] END learning_rate=0.04097146053451443, max_depth=6, max_features=None, min_samples_leaf=1, min_samples_split=6, n_estimators=352, subsample=0.8650924221895054; total time=   0.2s\n",
      "Fitting 5 folds for each of 1 candidates, totalling 5 fits\n",
      "[CV] END learning_rate=0.011605520580720658, max_depth=4, max_features=sqrt, min_samples_leaf=1, min_samples_split=5, n_estimators=118, subsample=0.5; total time=   0.0s\n",
      "[CV] END learning_rate=0.011605520580720658, max_depth=4, max_features=sqrt, min_samples_leaf=1, min_samples_split=5, n_estimators=118, subsample=0.5; total time=   0.0s\n",
      "[CV] END learning_rate=0.011605520580720658, max_depth=4, max_features=sqrt, min_samples_leaf=1, min_samples_split=5, n_estimators=118, subsample=0.5; total time=   0.0s\n",
      "[CV] END learning_rate=0.011605520580720658, max_depth=4, max_features=sqrt, min_samples_leaf=1, min_samples_split=5, n_estimators=118, subsample=0.5; total time=   0.0s\n",
      "[CV] END learning_rate=0.011605520580720658, max_depth=4, max_features=sqrt, min_samples_leaf=1, min_samples_split=5, n_estimators=118, subsample=0.5; total time=   0.0s\n"
     ]
    },
    {
     "name": "stderr",
     "output_type": "stream",
     "text": [
      "C:\\Users\\user\\AppData\\Roaming\\Python\\Python39\\site-packages\\skopt\\optimizer\\optimizer.py:449: UserWarning: The objective has been evaluated at this point before.\n",
      "  warnings.warn(\"The objective has been evaluated \"\n"
     ]
    },
    {
     "name": "stdout",
     "output_type": "stream",
     "text": [
      "Fitting 5 folds for each of 1 candidates, totalling 5 fits\n",
      "[CV] END learning_rate=0.01, max_depth=6, max_features=None, min_samples_leaf=1, min_samples_split=2, n_estimators=500, subsample=0.5; total time=   0.3s\n",
      "[CV] END learning_rate=0.01, max_depth=6, max_features=None, min_samples_leaf=1, min_samples_split=2, n_estimators=500, subsample=0.5; total time=   0.3s\n",
      "[CV] END learning_rate=0.01, max_depth=6, max_features=None, min_samples_leaf=1, min_samples_split=2, n_estimators=500, subsample=0.5; total time=   0.2s\n",
      "[CV] END learning_rate=0.01, max_depth=6, max_features=None, min_samples_leaf=1, min_samples_split=2, n_estimators=500, subsample=0.5; total time=   0.2s\n",
      "[CV] END learning_rate=0.01, max_depth=6, max_features=None, min_samples_leaf=1, min_samples_split=2, n_estimators=500, subsample=0.5; total time=   0.2s\n",
      "Fitting 5 folds for each of 1 candidates, totalling 5 fits\n",
      "[CV] END learning_rate=0.01, max_depth=2, max_features=sqrt, min_samples_leaf=10, min_samples_split=2, n_estimators=100, subsample=0.5; total time=   0.0s\n",
      "[CV] END learning_rate=0.01, max_depth=2, max_features=sqrt, min_samples_leaf=10, min_samples_split=2, n_estimators=100, subsample=0.5; total time=   0.0s\n",
      "[CV] END learning_rate=0.01, max_depth=2, max_features=sqrt, min_samples_leaf=10, min_samples_split=2, n_estimators=100, subsample=0.5; total time=   0.0s\n",
      "[CV] END learning_rate=0.01, max_depth=2, max_features=sqrt, min_samples_leaf=10, min_samples_split=2, n_estimators=100, subsample=0.5; total time=   0.0s\n",
      "[CV] END learning_rate=0.01, max_depth=2, max_features=sqrt, min_samples_leaf=10, min_samples_split=2, n_estimators=100, subsample=0.5; total time=   0.0s\n",
      "Fitting 5 folds for each of 1 candidates, totalling 5 fits\n",
      "[CV] END learning_rate=0.1, max_depth=5, max_features=None, min_samples_leaf=1, min_samples_split=10, n_estimators=100, subsample=1.0; total time=   0.0s\n",
      "[CV] END learning_rate=0.1, max_depth=5, max_features=None, min_samples_leaf=1, min_samples_split=10, n_estimators=100, subsample=1.0; total time=   0.0s\n",
      "[CV] END learning_rate=0.1, max_depth=5, max_features=None, min_samples_leaf=1, min_samples_split=10, n_estimators=100, subsample=1.0; total time=   0.0s\n",
      "[CV] END learning_rate=0.1, max_depth=5, max_features=None, min_samples_leaf=1, min_samples_split=10, n_estimators=100, subsample=1.0; total time=   0.0s\n",
      "[CV] END learning_rate=0.1, max_depth=5, max_features=None, min_samples_leaf=1, min_samples_split=10, n_estimators=100, subsample=1.0; total time=   0.0s\n",
      "Fitting 5 folds for each of 1 candidates, totalling 5 fits\n",
      "[CV] END learning_rate=0.1, max_depth=4, max_features=None, min_samples_leaf=1, min_samples_split=10, n_estimators=239, subsample=1.0; total time=   0.1s\n",
      "[CV] END learning_rate=0.1, max_depth=4, max_features=None, min_samples_leaf=1, min_samples_split=10, n_estimators=239, subsample=1.0; total time=   0.1s\n",
      "[CV] END learning_rate=0.1, max_depth=4, max_features=None, min_samples_leaf=1, min_samples_split=10, n_estimators=239, subsample=1.0; total time=   0.0s\n",
      "[CV] END learning_rate=0.1, max_depth=4, max_features=None, min_samples_leaf=1, min_samples_split=10, n_estimators=239, subsample=1.0; total time=   0.0s\n",
      "[CV] END learning_rate=0.1, max_depth=4, max_features=None, min_samples_leaf=1, min_samples_split=10, n_estimators=239, subsample=1.0; total time=   0.0s\n",
      "Fitting 5 folds for each of 1 candidates, totalling 5 fits\n",
      "[CV] END learning_rate=0.1, max_depth=6, max_features=None, min_samples_leaf=1, min_samples_split=2, n_estimators=100, subsample=1.0; total time=   0.0s\n",
      "[CV] END learning_rate=0.1, max_depth=6, max_features=None, min_samples_leaf=1, min_samples_split=2, n_estimators=100, subsample=1.0; total time=   0.0s\n",
      "[CV] END learning_rate=0.1, max_depth=6, max_features=None, min_samples_leaf=1, min_samples_split=2, n_estimators=100, subsample=1.0; total time=   0.0s\n",
      "[CV] END learning_rate=0.1, max_depth=6, max_features=None, min_samples_leaf=1, min_samples_split=2, n_estimators=100, subsample=1.0; total time=   0.0s\n",
      "[CV] END learning_rate=0.1, max_depth=6, max_features=None, min_samples_leaf=1, min_samples_split=2, n_estimators=100, subsample=1.0; total time=   0.0s\n",
      "Fitting 5 folds for each of 1 candidates, totalling 5 fits\n",
      "[CV] END learning_rate=0.01, max_depth=3, max_features=log2, min_samples_leaf=10, min_samples_split=9, n_estimators=500, subsample=0.8674938352538628; total time=   0.0s\n",
      "[CV] END learning_rate=0.01, max_depth=3, max_features=log2, min_samples_leaf=10, min_samples_split=9, n_estimators=500, subsample=0.8674938352538628; total time=   0.0s\n",
      "[CV] END learning_rate=0.01, max_depth=3, max_features=log2, min_samples_leaf=10, min_samples_split=9, n_estimators=500, subsample=0.8674938352538628; total time=   0.0s\n",
      "[CV] END learning_rate=0.01, max_depth=3, max_features=log2, min_samples_leaf=10, min_samples_split=9, n_estimators=500, subsample=0.8674938352538628; total time=   0.0s\n",
      "[CV] END learning_rate=0.01, max_depth=3, max_features=log2, min_samples_leaf=10, min_samples_split=9, n_estimators=500, subsample=0.8674938352538628; total time=   0.0s\n",
      "Fitting 5 folds for each of 1 candidates, totalling 5 fits\n",
      "[CV] END learning_rate=0.1, max_depth=5, max_features=None, min_samples_leaf=1, min_samples_split=10, n_estimators=500, subsample=0.9788813331419965; total time=   0.3s\n",
      "[CV] END learning_rate=0.1, max_depth=5, max_features=None, min_samples_leaf=1, min_samples_split=10, n_estimators=500, subsample=0.9788813331419965; total time=   0.4s\n",
      "[CV] END learning_rate=0.1, max_depth=5, max_features=None, min_samples_leaf=1, min_samples_split=10, n_estimators=500, subsample=0.9788813331419965; total time=   0.5s\n",
      "[CV] END learning_rate=0.1, max_depth=5, max_features=None, min_samples_leaf=1, min_samples_split=10, n_estimators=500, subsample=0.9788813331419965; total time=   0.3s\n",
      "[CV] END learning_rate=0.1, max_depth=5, max_features=None, min_samples_leaf=1, min_samples_split=10, n_estimators=500, subsample=0.9788813331419965; total time=   0.2s\n",
      "Fitting 5 folds for each of 1 candidates, totalling 5 fits\n",
      "[CV] END learning_rate=0.018238926886791566, max_depth=6, max_features=None, min_samples_leaf=1, min_samples_split=10, n_estimators=100, subsample=1.0; total time=   0.0s\n",
      "[CV] END learning_rate=0.018238926886791566, max_depth=6, max_features=None, min_samples_leaf=1, min_samples_split=10, n_estimators=100, subsample=1.0; total time=   0.0s\n",
      "[CV] END learning_rate=0.018238926886791566, max_depth=6, max_features=None, min_samples_leaf=1, min_samples_split=10, n_estimators=100, subsample=1.0; total time=   0.0s\n",
      "[CV] END learning_rate=0.018238926886791566, max_depth=6, max_features=None, min_samples_leaf=1, min_samples_split=10, n_estimators=100, subsample=1.0; total time=   0.0s\n",
      "[CV] END learning_rate=0.018238926886791566, max_depth=6, max_features=None, min_samples_leaf=1, min_samples_split=10, n_estimators=100, subsample=1.0; total time=   0.0s\n",
      "Fitting 5 folds for each of 1 candidates, totalling 5 fits\n",
      "[CV] END learning_rate=0.1, max_depth=3, max_features=log2, min_samples_leaf=1, min_samples_split=3, n_estimators=500, subsample=0.8203761022694147; total time=   0.0s\n",
      "[CV] END learning_rate=0.1, max_depth=3, max_features=log2, min_samples_leaf=1, min_samples_split=3, n_estimators=500, subsample=0.8203761022694147; total time=   0.0s\n",
      "[CV] END learning_rate=0.1, max_depth=3, max_features=log2, min_samples_leaf=1, min_samples_split=3, n_estimators=500, subsample=0.8203761022694147; total time=   0.0s\n",
      "[CV] END learning_rate=0.1, max_depth=3, max_features=log2, min_samples_leaf=1, min_samples_split=3, n_estimators=500, subsample=0.8203761022694147; total time=   0.0s\n",
      "[CV] END learning_rate=0.1, max_depth=3, max_features=log2, min_samples_leaf=1, min_samples_split=3, n_estimators=500, subsample=0.8203761022694147; total time=   0.0s\n",
      "Fitting 5 folds for each of 1 candidates, totalling 5 fits\n",
      "[CV] END learning_rate=0.01, max_depth=2, max_features=None, min_samples_leaf=1, min_samples_split=10, n_estimators=500, subsample=0.5; total time=   0.1s\n",
      "[CV] END learning_rate=0.01, max_depth=2, max_features=None, min_samples_leaf=1, min_samples_split=10, n_estimators=500, subsample=0.5; total time=   0.1s\n",
      "[CV] END learning_rate=0.01, max_depth=2, max_features=None, min_samples_leaf=1, min_samples_split=10, n_estimators=500, subsample=0.5; total time=   0.0s\n"
     ]
    },
    {
     "name": "stdout",
     "output_type": "stream",
     "text": [
      "[CV] END learning_rate=0.01, max_depth=2, max_features=None, min_samples_leaf=1, min_samples_split=10, n_estimators=500, subsample=0.5; total time=   0.0s\n",
      "[CV] END learning_rate=0.01, max_depth=2, max_features=None, min_samples_leaf=1, min_samples_split=10, n_estimators=500, subsample=0.5; total time=   0.0s\n",
      "Fitting 5 folds for each of 1 candidates, totalling 5 fits\n",
      "[CV] END learning_rate=0.1, max_depth=4, max_features=sqrt, min_samples_leaf=1, min_samples_split=10, n_estimators=100, subsample=1.0; total time=   0.0s\n",
      "[CV] END learning_rate=0.1, max_depth=4, max_features=sqrt, min_samples_leaf=1, min_samples_split=10, n_estimators=100, subsample=1.0; total time=   0.0s\n",
      "[CV] END learning_rate=0.1, max_depth=4, max_features=sqrt, min_samples_leaf=1, min_samples_split=10, n_estimators=100, subsample=1.0; total time=   0.0s\n",
      "[CV] END learning_rate=0.1, max_depth=4, max_features=sqrt, min_samples_leaf=1, min_samples_split=10, n_estimators=100, subsample=1.0; total time=   0.0s\n",
      "[CV] END learning_rate=0.1, max_depth=4, max_features=sqrt, min_samples_leaf=1, min_samples_split=10, n_estimators=100, subsample=1.0; total time=   0.0s\n"
     ]
    },
    {
     "data": {
      "text/plain": [
       "BayesSearchCV(cv=5, estimator=GradientBoostingRegressor(random_state=42),\n",
       "              random_state=42,\n",
       "              search_spaces={'learning_rate': Real(low=0.01, high=0.1, prior='log-uniform', transform='normalize'),\n",
       "                             'max_depth': Integer(low=2, high=6, prior='uniform', transform='normalize'),\n",
       "                             'max_features': Categorical(categories=('sqrt', 'log2', None), prior=None),\n",
       "                             'min_samples_leaf': Integer(low=1, high=10, prior='uniform', transform='normalize'),\n",
       "                             'min_samples_split': Integer(low=2, high=10, prior='uniform', transform='normalize'),\n",
       "                             'n_estimators': Integer(low=100, high=500, prior='uniform', transform='normalize'),\n",
       "                             'subsample': Real(low=0.5, high=1.0, prior='uniform', transform='normalize')},\n",
       "              verbose=2)"
      ]
     },
     "execution_count": 24,
     "metadata": {},
     "output_type": "execute_result"
    }
   ],
   "source": [
    "# perform hyperparameter search using Bayesian Optimization\n",
    "gb = GradientBoostingRegressor(random_state=42)\n",
    "bayes_search = BayesSearchCV(gb, param_grid, cv=5, n_iter=50, random_state=42, verbose=2)\n",
    "bayes_search.fit(X_train, y_train)"
   ]
  },
  {
   "cell_type": "code",
   "execution_count": 26,
   "id": "a3a7d294",
   "metadata": {},
   "outputs": [
    {
     "name": "stdout",
     "output_type": "stream",
     "text": [
      "Accuracy: 63.61%\n"
     ]
    }
   ],
   "source": [
    "# evaluate the performance of the best model on the testing set\n",
    "best_model = bayes_search.best_estimator_\n",
    "y_pred = best_model.predict(X_test)\n",
    "accuracy = best_model.score(X_test, y_test) * 100\n",
    "print(\"Accuracy: {:.2f}%\".format(accuracy))"
   ]
  },
  {
   "cell_type": "code",
   "execution_count": 27,
   "id": "bc3cf0ef",
   "metadata": {},
   "outputs": [
    {
     "name": "stdout",
     "output_type": "stream",
     "text": [
      "Best hyperparameters:  OrderedDict([('learning_rate', 0.01), ('max_depth', 6), ('max_features', None), ('min_samples_leaf', 1), ('min_samples_split', 2), ('n_estimators', 500), ('subsample', 0.5)])\n"
     ]
    }
   ],
   "source": [
    "# print the best hyperparameters\n",
    "print(\"Best hyperparameters: \", bayes_search.best_params_)"
   ]
  },
  {
   "cell_type": "code",
   "execution_count": null,
   "id": "43dc8ed0",
   "metadata": {},
   "outputs": [],
   "source": []
  }
 ],
 "metadata": {
  "kernelspec": {
   "display_name": "Python 3 (ipykernel)",
   "language": "python",
   "name": "python3"
  },
  "language_info": {
   "codemirror_mode": {
    "name": "ipython",
    "version": 3
   },
   "file_extension": ".py",
   "mimetype": "text/x-python",
   "name": "python",
   "nbconvert_exporter": "python",
   "pygments_lexer": "ipython3",
   "version": "3.9.13"
  }
 },
 "nbformat": 4,
 "nbformat_minor": 5
}
