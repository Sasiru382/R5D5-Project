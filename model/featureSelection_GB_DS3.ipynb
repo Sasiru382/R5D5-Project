{
 "cells": [
  {
   "cell_type": "code",
   "execution_count": 1,
   "id": "41bb7b39",
   "metadata": {},
   "outputs": [],
   "source": [
    "import pandas as pd\n",
    "from sklearn.model_selection import train_test_split\n",
    "from sklearn.ensemble import GradientBoostingRegressor\n",
    "import matplotlib.pyplot as plt"
   ]
  },
  {
   "cell_type": "code",
   "execution_count": 2,
   "id": "ccd6db32",
   "metadata": {},
   "outputs": [],
   "source": [
    "# load the data from a local CSV file\n",
    "data = pd.read_csv(\"C:/Users/Anupa/Documents/GitHub/R5D5-Project/model/ML_Model_Dataset_03/complete_data_model_NBA_Player_Stats_Playoffs.csv\")"
   ]
  },
  {
   "cell_type": "code",
   "execution_count": 3,
   "id": "15d1ab8f",
   "metadata": {},
   "outputs": [
    {
     "data": {
      "text/html": [
       "<div>\n",
       "<style scoped>\n",
       "    .dataframe tbody tr th:only-of-type {\n",
       "        vertical-align: middle;\n",
       "    }\n",
       "\n",
       "    .dataframe tbody tr th {\n",
       "        vertical-align: top;\n",
       "    }\n",
       "\n",
       "    .dataframe thead th {\n",
       "        text-align: right;\n",
       "    }\n",
       "</style>\n",
       "<table border=\"1\" class=\"dataframe\">\n",
       "  <thead>\n",
       "    <tr style=\"text-align: right;\">\n",
       "      <th></th>\n",
       "      <th>Rk</th>\n",
       "      <th>Age</th>\n",
       "      <th>G</th>\n",
       "      <th>GS</th>\n",
       "      <th>MP</th>\n",
       "      <th>FG</th>\n",
       "      <th>FGA</th>\n",
       "      <th>FG%</th>\n",
       "      <th>3P</th>\n",
       "      <th>3PA</th>\n",
       "      <th>...</th>\n",
       "      <th>BLK</th>\n",
       "      <th>TOV</th>\n",
       "      <th>PF</th>\n",
       "      <th>PTS</th>\n",
       "      <th>salary</th>\n",
       "      <th>Pos_C</th>\n",
       "      <th>Pos_PF</th>\n",
       "      <th>Pos_PG</th>\n",
       "      <th>Pos_SF</th>\n",
       "      <th>Pos_SG</th>\n",
       "    </tr>\n",
       "  </thead>\n",
       "  <tbody>\n",
       "    <tr>\n",
       "      <th>0</th>\n",
       "      <td>2</td>\n",
       "      <td>28</td>\n",
       "      <td>7</td>\n",
       "      <td>5</td>\n",
       "      <td>16.3</td>\n",
       "      <td>1.3</td>\n",
       "      <td>3.0</td>\n",
       "      <td>0.429</td>\n",
       "      <td>0.0</td>\n",
       "      <td>0.0</td>\n",
       "      <td>...</td>\n",
       "      <td>0.1</td>\n",
       "      <td>0.6</td>\n",
       "      <td>1.7</td>\n",
       "      <td>3.4</td>\n",
       "      <td>0.639241</td>\n",
       "      <td>1</td>\n",
       "      <td>0</td>\n",
       "      <td>0</td>\n",
       "      <td>0</td>\n",
       "      <td>0</td>\n",
       "    </tr>\n",
       "    <tr>\n",
       "      <th>1</th>\n",
       "      <td>3</td>\n",
       "      <td>24</td>\n",
       "      <td>18</td>\n",
       "      <td>18</td>\n",
       "      <td>34.1</td>\n",
       "      <td>5.8</td>\n",
       "      <td>9.7</td>\n",
       "      <td>0.594</td>\n",
       "      <td>0.0</td>\n",
       "      <td>0.1</td>\n",
       "      <td>...</td>\n",
       "      <td>0.7</td>\n",
       "      <td>2.1</td>\n",
       "      <td>3.1</td>\n",
       "      <td>14.8</td>\n",
       "      <td>0.077918</td>\n",
       "      <td>1</td>\n",
       "      <td>0</td>\n",
       "      <td>0</td>\n",
       "      <td>0</td>\n",
       "      <td>0</td>\n",
       "    </tr>\n",
       "    <tr>\n",
       "      <th>2</th>\n",
       "      <td>4</td>\n",
       "      <td>23</td>\n",
       "      <td>1</td>\n",
       "      <td>0</td>\n",
       "      <td>5.0</td>\n",
       "      <td>2.0</td>\n",
       "      <td>2.0</td>\n",
       "      <td>1.000</td>\n",
       "      <td>0.0</td>\n",
       "      <td>0.0</td>\n",
       "      <td>...</td>\n",
       "      <td>0.0</td>\n",
       "      <td>0.0</td>\n",
       "      <td>0.0</td>\n",
       "      <td>5.0</td>\n",
       "      <td>0.065652</td>\n",
       "      <td>0</td>\n",
       "      <td>0</td>\n",
       "      <td>0</td>\n",
       "      <td>0</td>\n",
       "      <td>1</td>\n",
       "    </tr>\n",
       "    <tr>\n",
       "      <th>3</th>\n",
       "      <td>5</td>\n",
       "      <td>26</td>\n",
       "      <td>12</td>\n",
       "      <td>5</td>\n",
       "      <td>25.4</td>\n",
       "      <td>3.1</td>\n",
       "      <td>6.8</td>\n",
       "      <td>0.451</td>\n",
       "      <td>1.6</td>\n",
       "      <td>4.0</td>\n",
       "      <td>...</td>\n",
       "      <td>0.3</td>\n",
       "      <td>0.8</td>\n",
       "      <td>1.8</td>\n",
       "      <td>8.3</td>\n",
       "      <td>0.052227</td>\n",
       "      <td>0</td>\n",
       "      <td>0</td>\n",
       "      <td>0</td>\n",
       "      <td>0</td>\n",
       "      <td>1</td>\n",
       "    </tr>\n",
       "    <tr>\n",
       "      <th>4</th>\n",
       "      <td>7</td>\n",
       "      <td>28</td>\n",
       "      <td>12</td>\n",
       "      <td>1</td>\n",
       "      <td>18.4</td>\n",
       "      <td>2.4</td>\n",
       "      <td>4.3</td>\n",
       "      <td>0.569</td>\n",
       "      <td>0.3</td>\n",
       "      <td>1.0</td>\n",
       "      <td>...</td>\n",
       "      <td>0.6</td>\n",
       "      <td>0.8</td>\n",
       "      <td>1.8</td>\n",
       "      <td>6.0</td>\n",
       "      <td>0.218796</td>\n",
       "      <td>0</td>\n",
       "      <td>1</td>\n",
       "      <td>0</td>\n",
       "      <td>0</td>\n",
       "      <td>0</td>\n",
       "    </tr>\n",
       "  </tbody>\n",
       "</table>\n",
       "<p>5 rows × 33 columns</p>\n",
       "</div>"
      ],
      "text/plain": [
       "   Rk  Age   G  GS    MP   FG  FGA    FG%   3P  3PA  ...  BLK  TOV   PF   PTS  \\\n",
       "0   2   28   7   5  16.3  1.3  3.0  0.429  0.0  0.0  ...  0.1  0.6  1.7   3.4   \n",
       "1   3   24  18  18  34.1  5.8  9.7  0.594  0.0  0.1  ...  0.7  2.1  3.1  14.8   \n",
       "2   4   23   1   0   5.0  2.0  2.0  1.000  0.0  0.0  ...  0.0  0.0  0.0   5.0   \n",
       "3   5   26  12   5  25.4  3.1  6.8  0.451  1.6  4.0  ...  0.3  0.8  1.8   8.3   \n",
       "4   7   28  12   1  18.4  2.4  4.3  0.569  0.3  1.0  ...  0.6  0.8  1.8   6.0   \n",
       "\n",
       "     salary  Pos_C  Pos_PF  Pos_PG  Pos_SF  Pos_SG  \n",
       "0  0.639241      1       0       0       0       0  \n",
       "1  0.077918      1       0       0       0       0  \n",
       "2  0.065652      0       0       0       0       1  \n",
       "3  0.052227      0       0       0       0       1  \n",
       "4  0.218796      0       1       0       0       0  \n",
       "\n",
       "[5 rows x 33 columns]"
      ]
     },
     "execution_count": 3,
     "metadata": {},
     "output_type": "execute_result"
    }
   ],
   "source": [
    "data.head()"
   ]
  },
  {
   "cell_type": "code",
   "execution_count": 4,
   "id": "f021cd53",
   "metadata": {},
   "outputs": [
    {
     "name": "stdout",
     "output_type": "stream",
     "text": [
      "<class 'pandas.core.frame.DataFrame'>\n",
      "RangeIndex: 141 entries, 0 to 140\n",
      "Data columns (total 33 columns):\n",
      " #   Column  Non-Null Count  Dtype  \n",
      "---  ------  --------------  -----  \n",
      " 0   Rk      141 non-null    int64  \n",
      " 1   Age     141 non-null    int64  \n",
      " 2   G       141 non-null    int64  \n",
      " 3   GS      141 non-null    int64  \n",
      " 4   MP      141 non-null    float64\n",
      " 5   FG      141 non-null    float64\n",
      " 6   FGA     141 non-null    float64\n",
      " 7   FG%     141 non-null    float64\n",
      " 8   3P      141 non-null    float64\n",
      " 9   3PA     141 non-null    float64\n",
      " 10  3P%     141 non-null    float64\n",
      " 11  2P      141 non-null    float64\n",
      " 12  2PA     141 non-null    float64\n",
      " 13  2P%     141 non-null    float64\n",
      " 14  eFG%    141 non-null    float64\n",
      " 15  FT      141 non-null    float64\n",
      " 16  FTA     141 non-null    float64\n",
      " 17  FT%     141 non-null    float64\n",
      " 18  ORB     141 non-null    float64\n",
      " 19  DRB     141 non-null    float64\n",
      " 20  TRB     141 non-null    float64\n",
      " 21  AST     141 non-null    float64\n",
      " 22  STL     141 non-null    float64\n",
      " 23  BLK     141 non-null    float64\n",
      " 24  TOV     141 non-null    float64\n",
      " 25  PF      141 non-null    float64\n",
      " 26  PTS     141 non-null    float64\n",
      " 27  salary  141 non-null    float64\n",
      " 28  Pos_C   141 non-null    int64  \n",
      " 29  Pos_PF  141 non-null    int64  \n",
      " 30  Pos_PG  141 non-null    int64  \n",
      " 31  Pos_SF  141 non-null    int64  \n",
      " 32  Pos_SG  141 non-null    int64  \n",
      "dtypes: float64(24), int64(9)\n",
      "memory usage: 36.5 KB\n"
     ]
    }
   ],
   "source": [
    "data.info()"
   ]
  },
  {
   "cell_type": "code",
   "execution_count": 5,
   "id": "d47fc996",
   "metadata": {},
   "outputs": [],
   "source": [
    "# split the data into training and testing sets\n",
    "X = data.drop('salary', axis=1)\n",
    "y = data['salary']\n",
    "X_train, X_test, y_train, y_test = train_test_split(X, y, test_size=0.2, random_state=42)"
   ]
  },
  {
   "cell_type": "code",
   "execution_count": 6,
   "id": "5c8036e9",
   "metadata": {},
   "outputs": [],
   "source": [
    "# create a Gradient Boosting Regressor model\n",
    "gb = GradientBoostingRegressor(n_estimators=100, learning_rate=0.1, max_depth=3, random_state=0)\n"
   ]
  },
  {
   "cell_type": "code",
   "execution_count": 7,
   "id": "259297c6",
   "metadata": {},
   "outputs": [
    {
     "data": {
      "text/plain": [
       "GradientBoostingRegressor(random_state=0)"
      ]
     },
     "execution_count": 7,
     "metadata": {},
     "output_type": "execute_result"
    }
   ],
   "source": [
    "# train the model on the training set\n",
    "gb.fit(X_train, y_train)"
   ]
  },
  {
   "cell_type": "code",
   "execution_count": 8,
   "id": "3949ba7f",
   "metadata": {},
   "outputs": [],
   "source": [
    "# get the feature importance scores\n",
    "feature_importance = gb.feature_importances_\n"
   ]
  },
  {
   "cell_type": "code",
   "execution_count": 9,
   "id": "b550a1a3",
   "metadata": {},
   "outputs": [
    {
     "data": {
      "image/png": "[encoded data removed]",
      "text/plain": [
       "<Figure size 640x480 with 1 Axes>"
      ]
     },
     "metadata": {},
     "output_type": "display_data"
    }
   ],
   "source": [
    "# plot the feature importances\n",
    "plt.bar(range(X.shape[1]), feature_importance)\n",
    "plt.xticks(range(X.shape[1]), X.columns, rotation=90)\n",
    "plt.xlabel('Feature')\n",
    "plt.ylabel('Importance Score')\n",
    "plt.title('Feature Importance Scores')\n",
    "plt.show()"
   ]
  },
  {
   "cell_type": "code",
   "execution_count": null,
   "id": "6517a2d8",
   "metadata": {},
   "outputs": [],
   "source": []
  }
 ],
 "metadata": {
  "kernelspec": {
   "display_name": "Python 3 (ipykernel)",
   "language": "python",
   "name": "python3"
  },
  "language_info": {
   "codemirror_mode": {
    "name": "ipython",
    "version": 3
   },
   "file_extension": ".py",
   "mimetype": "text/x-python",
   "name": "python",
   "nbconvert_exporter": "python",
   "pygments_lexer": "ipython3",
   "version": "3.9.13"
  }
 },
 "nbformat": 4,
 "nbformat_minor": 5
}
